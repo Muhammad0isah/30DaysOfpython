{
 "cells": [
  {
   "attachments": {},
   "cell_type": "markdown",
   "metadata": {},
   "source": [
    "# Sytax Error\n",
    "![SyntaxError](./images/SyntaxError.jpg)"
   ]
  },
  {
   "attachments": {},
   "cell_type": "markdown",
   "metadata": {},
   "source": [
    "# NameError\n",
    "![NameError](./images/NameError.jpg)"
   ]
  },
  {
   "attachments": {},
   "cell_type": "markdown",
   "metadata": {},
   "source": [
    "# IndexError\n",
    "![IndexError](./images/IndexError.jpg)"
   ]
  },
  {
   "attachments": {},
   "cell_type": "markdown",
   "metadata": {},
   "source": [
    "# ModuleNotFoundError\n",
    "![ModuleNotFoundError](./images/ModuleNotFoundError.jpg)"
   ]
  },
  {
   "attachments": {},
   "cell_type": "markdown",
   "metadata": {},
   "source": [
    "# AttributeError\n",
    "![AttributeError](./images/AttributeError.jpg)"
   ]
  },
  {
   "attachments": {},
   "cell_type": "markdown",
   "metadata": {},
   "source": [
    "# KeyError\n",
    "![KeyError](./images/keyError.jpg)"
   ]
  },
  {
   "attachments": {},
   "cell_type": "markdown",
   "metadata": {},
   "source": [
    "# TypeError\n",
    "![TypeError](./images/TypeError.jpg)"
   ]
  },
  {
   "attachments": {},
   "cell_type": "markdown",
   "metadata": {},
   "source": [
    "# ImportError\n",
    "![ImportError](./images/ImportError.jpg)"
   ]
  },
  {
   "attachments": {},
   "cell_type": "markdown",
   "metadata": {},
   "source": [
    "# ValueError\n",
    "![ValueError](./images/ValueError.jpg)"
   ]
  },
  {
   "attachments": {},
   "cell_type": "markdown",
   "metadata": {},
   "source": [
    "# ZeroDivisionError\n",
    "![ZeroDivisionError](./images/ZeroDivisionError.jpg)"
   ]
  }
 ],
 "metadata": {
  "kernelspec": {
   "display_name": "Python 3",
   "language": "python",
   "name": "python3"
  },
  "language_info": {
   "name": "python",
   "version": "3.10.1"
  },
  "orig_nbformat": 4,
  "vscode": {
   "interpreter": {
    "hash": "dafbd4f27b171e06f607e8afa1a808db8f1489571d4122bcc8dcca9bb8da7999"
   }
  }
 },
 "nbformat": 4,
 "nbformat_minor": 2
}
