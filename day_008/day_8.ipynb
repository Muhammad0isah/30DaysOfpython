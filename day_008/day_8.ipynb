{
 "cells": [
  {
   "cell_type": "markdown",
   "metadata": {},
   "source": [
    "# Day 8 (Dictionary)"
   ]
  },
  {
   "cell_type": "markdown",
   "metadata": {},
   "source": [
    "### Q1"
   ]
  },
  {
   "cell_type": "code",
   "execution_count": 1,
   "metadata": {},
   "outputs": [],
   "source": [
    "# no 1\n",
    "dog = {}"
   ]
  },
  {
   "cell_type": "markdown",
   "metadata": {},
   "source": [
    "### Q2"
   ]
  },
  {
   "cell_type": "code",
   "execution_count": 2,
   "metadata": {},
   "outputs": [],
   "source": [
    "# no 2\n",
    "dog = {\"name\": \"cheetah\", \"color\": \"white\", \"breed\": \"pug\", \"legs\": 4, \"age\": 4}"
   ]
  },
  {
   "cell_type": "markdown",
   "metadata": {},
   "source": [
    "### Q3"
   ]
  },
  {
   "cell_type": "code",
   "execution_count": 3,
   "metadata": {},
   "outputs": [],
   "source": [
    "# no 3\n",
    "student_dictionary = {\n",
    "    \"first_name\": \"Muhammad\",\n",
    "    \"last_name\": \"Ibrahim\",\n",
    "    \"gender\": \"Male\",\n",
    "    \"age\": 25,\n",
    "    \"marital_status\": \"Single\",\n",
    "    \"skills\": [\"Python\",\"ML_Algorithms\",\"Android Development\"],\n",
    "    \"country\": \"Nigeria\",\n",
    "    \"city\": \"Kano\",\n",
    "    \"address\": \"Dala LG\",\n",
    "}"
   ]
  },
  {
   "cell_type": "markdown",
   "metadata": {},
   "source": [
    "### Q4"
   ]
  },
  {
   "cell_type": "code",
   "execution_count": 4,
   "metadata": {},
   "outputs": [
    {
     "name": "stdout",
     "output_type": "stream",
     "text": [
      "9\n"
     ]
    }
   ],
   "source": [
    "# no 4\n",
    "print(len(student_dictionary))"
   ]
  },
  {
   "cell_type": "markdown",
   "metadata": {},
   "source": [
    "### Q5"
   ]
  },
  {
   "cell_type": "code",
   "execution_count": 5,
   "metadata": {},
   "outputs": [
    {
     "name": "stdout",
     "output_type": "stream",
     "text": [
      "['Python', 'ML_Algorithms', 'Android Development']\n",
      "<class 'list'>\n"
     ]
    }
   ],
   "source": [
    "# no 5\n",
    "print(student_dictionary['skills'])\n",
    "print(type(student_dictionary['skills']))"
   ]
  },
  {
   "cell_type": "markdown",
   "metadata": {},
   "source": [
    "### Q6"
   ]
  },
  {
   "cell_type": "code",
   "execution_count": 6,
   "metadata": {},
   "outputs": [
    {
     "name": "stdout",
     "output_type": "stream",
     "text": [
      "['Python', 'ML_Algorithms', 'Android Development', 'IT Support']\n"
     ]
    }
   ],
   "source": [
    "# no 6\n",
    "student_dictionary[\"skills\"].append(\"IT Support\")\n",
    "print(student_dictionary['skills'])"
   ]
  },
  {
   "cell_type": "markdown",
   "metadata": {},
   "source": [
    "### Q7"
   ]
  },
  {
   "cell_type": "code",
   "execution_count": 7,
   "metadata": {},
   "outputs": [
    {
     "name": "stdout",
     "output_type": "stream",
     "text": [
      "['first_name', 'last_name', 'gender', 'age', 'marital_status', 'skills', 'country', 'city', 'address']\n"
     ]
    }
   ],
   "source": [
    "# no 7\n",
    "print(list(student_dictionary.keys()))"
   ]
  },
  {
   "cell_type": "markdown",
   "metadata": {},
   "source": [
    "### Q8"
   ]
  },
  {
   "cell_type": "code",
   "execution_count": 8,
   "metadata": {},
   "outputs": [
    {
     "name": "stdout",
     "output_type": "stream",
     "text": [
      "['Muhammad', 'Ibrahim', 'Male', 25, 'Single', ['Python', 'ML_Algorithms', 'Android Development', 'IT Support'], 'Nigeria', 'Kano', 'Dala LG']\n"
     ]
    }
   ],
   "source": [
    "# no 8\n",
    "print(list(student_dictionary.values()))"
   ]
  },
  {
   "cell_type": "markdown",
   "metadata": {},
   "source": [
    "### Q9"
   ]
  },
  {
   "cell_type": "code",
   "execution_count": 9,
   "metadata": {},
   "outputs": [
    {
     "name": "stdout",
     "output_type": "stream",
     "text": [
      "[('first_name', 'Muhammad'), ('last_name', 'Ibrahim'), ('gender', 'Male'), ('age', 25), ('marital_status', 'Single'), ('skills', ['Python', 'ML_Algorithms', 'Android Development', 'IT Support']), ('country', 'Nigeria'), ('city', 'Kano'), ('address', 'Dala LG')]\n"
     ]
    }
   ],
   "source": [
    "# no 9\n",
    "list_of_tuples = [(key, value) for key, value in student_dictionary.items()]\n",
    "print(list_of_tuples)"
   ]
  },
  {
   "cell_type": "markdown",
   "metadata": {},
   "source": [
    "### Q10"
   ]
  },
  {
   "cell_type": "code",
   "execution_count": 10,
   "metadata": {},
   "outputs": [
    {
     "name": "stdout",
     "output_type": "stream",
     "text": [
      "{'first_name': 'Muhammad', 'last_name': 'Ibrahim', 'gender': 'Male', 'age': 25, 'marital_status': 'Single', 'skills': ['Python', 'ML_Algorithms', 'Android Development', 'IT Support'], 'country': 'Nigeria', 'city': 'Kano'}\n"
     ]
    }
   ],
   "source": [
    "# no 10\n",
    "student_dictionary.pop(\"address\")\n",
    "print(student_dictionary)\n"
   ]
  },
  {
   "cell_type": "markdown",
   "metadata": {},
   "source": [
    "### Q11"
   ]
  }
 ],
 "metadata": {
  "kernelspec": {
   "display_name": "Python 3 (ipykernel)",
   "language": "python",
   "name": "python3"
  },
  "language_info": {
   "codemirror_mode": {
    "name": "ipython",
    "version": 3
   },
   "file_extension": ".py",
   "mimetype": "text/x-python",
   "name": "python",
   "nbconvert_exporter": "python",
   "pygments_lexer": "ipython3",
   "version": "3.8.8"
  },
  "vscode": {
   "interpreter": {
    "hash": "99ebbddb4d26d80122836a1451186d0c9e365e5714863c74660ee872bfd6eb66"
   }
  }
 },
 "nbformat": 4,
 "nbformat_minor": 2
}
