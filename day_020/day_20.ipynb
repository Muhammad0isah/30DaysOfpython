{
 "cells": [
  {
   "cell_type": "markdown",
   "metadata": {
    "collapsed": false
   },
   "source": [
    "# Day 20 (Python Package Manager)"
   ]
  },
  {
   "cell_type": "markdown",
   "metadata": {
    "collapsed": false
   },
   "source": [
    "### Q1"
   ]
  },
  {
   "cell_type": "code",
   "execution_count": 9,
   "metadata": {
    "collapsed": false
   },
   "outputs": [
    {
     "name": "stdout",
     "output_type": "stream",
     "text": [
      "[('the', 762), ('I', 549), ('and', 539), ('to', 522), ('of', 485), ('a', 453), ('in', 330), ('is', 322), ('my', 310), ('with', 274)]\n"
     ]
    }
   ],
   "source": [
    "import requests\n",
    "from collections import Counter\n",
    "\n",
    "romeo_and_juliet = requests.get('http://www.gutenberg.org/files/1112/1112.txt')\n",
    "\n",
    "def find_most_common_words(text):\n",
    "    split_text = text.split()\n",
    "    my_counter = Counter(split_text).most_common()\n",
    "\n",
    "    return my_counter[:10]\n",
    "\n",
    "print(find_most_common_words(romeo_and_juliet.text))\n"
   ]
  },
  {
   "cell_type": "markdown",
   "metadata": {
    "collapsed": false
   },
   "source": [
    "### Q2"
   ]
  },
  {
   "cell_type": "code",
   "execution_count": 15,
   "metadata": {
    "collapsed": false
   },
   "outputs": [
    {
     "name": "stdout",
     "output_type": "stream",
     "text": [
      "WEIGHT DATA\n",
      "Standard Deviation: 1.06\n",
      "Minimum: 3.0\n",
      "Maximum: 7.5\n",
      "Median: 4.5\n",
      "Mean: 4.71\n",
      "LIFESPAN DATA\n",
      "Standard Deviation: 1.57\n",
      "Minimum: 10.5\n",
      "Maximum: 19.0\n",
      "Median: 13.5\n",
      "Mean: 13.75\n",
      "{'United States': 28, 'United Kingdom': 8, 'Russia': 4, 'Thailand': 4, 'Egypt': 3, 'Canada': 3, 'France': 2, 'Burma': 2, 'Turkey': 2, 'Greece': 1, 'United Arab Emirates': 1, 'Australia': 1, 'Cyprus': 1, 'China': 1, 'Japan': 1, 'Isle of Man': 1, 'Norway': 1, 'Iran (Persia)': 1, 'Singapore': 1, 'Somalia': 1}\n"
     ]
    }
   ],
   "source": [
    "import numpy\n",
    "cats_api = requests.get('https://api.thecatapi.com/v1/breeds')\n",
    "cats_data = cats_api.json()\n",
    "\n",
    "# Q2(i)\n",
    "def metric_weights(data):\n",
    "    metric_weights = []\n",
    "\n",
    "    for breed in data:\n",
    "        metric_weights.append(\n",
    "            (int(breed['weight']['metric'].split()[0]) + int(breed['weight']['metric'].split()[-1])) / 2)\n",
    "\n",
    "    median = numpy.median(metric_weights)\n",
    "    mean = numpy.mean(metric_weights)\n",
    "    min_metric = min(metric_weights)\n",
    "    max_metric = max(metric_weights)\n",
    "    std = numpy.std(metric_weights)\n",
    "    print(\"WEIGHT DATA\")\n",
    "    print(\"Standard Deviation: %0.2f\" % std)\n",
    "    print(\"Minimum:\", min_metric)\n",
    "    print(\"Maximum:\", max_metric)\n",
    "\n",
    "    print(\"Median:\", median)\n",
    "    print(\"Mean: %0.2f\" % mean)\n",
    "\n",
    "metric_weights(cats_data)\n",
    "\n",
    "# Q2(i)\n",
    "\n",
    "def life_spans(data):\n",
    "    lifespans = []\n",
    "    for breed in data:\n",
    "        lifespans.append((int(breed['life_span'].split()[0]) + int(breed['life_span'].split()[-1])) / 2)\n",
    "\n",
    "    median = numpy.median(lifespans)\n",
    "    mean = numpy.mean(lifespans)\n",
    "    min_span = min(lifespans)\n",
    "    max_span = max(lifespans)\n",
    "    sd = numpy.std(lifespans)\n",
    "    print(\"LIFESPAN DATA\")\n",
    "    print(\"Standard Deviation: %0.2f\" % sd)\n",
    "    print(\"Minimum:\", min_span)\n",
    "    print(\"Maximum:\", max_span)\n",
    "    print(\"Median:\", median)\n",
    "    print(\"Mean: %0.2f\" % mean)\n",
    "\n",
    "life_spans(cats_data)\n",
    "\n",
    "# Q2(iii)\n",
    "\n",
    "def sort_dict_by_value(d, reverse=False):\n",
    "    return dict(sorted(d.items(), key=lambda x: x[1], reverse=reverse))\n",
    "\n",
    "\n",
    "def freq_origin(data):\n",
    "    origins = []\n",
    "    for breed in data:\n",
    "        origins.append(breed['origin'])\n",
    "    print(sort_dict_by_value(dict(Counter(origins)), True))\n",
    "freq_origin(cats_data)"
   ]
  },
  {
   "cell_type": "markdown",
   "metadata": {
    "collapsed": false
   },
   "source": [
    "### Q3"
   ]
  },
  {
   "cell_type": "code",
   "execution_count": null,
   "metadata": {
    "collapsed": false
   },
   "outputs": [],
   "source": []
  }
 ],
 "metadata": {
  "kernelspec": {
   "display_name": "Python 3",
   "language": "python",
   "name": "python3"
  },
  "language_info": {
   "codemirror_mode": {
    "name": "ipython",
    "version": 2
   },
   "file_extension": ".py",
   "mimetype": "text/x-python",
   "name": "python",
   "nbconvert_exporter": "python",
   "pygments_lexer": "ipython2",
   "version": "3.10.1"
  },
  "vscode": {
   "interpreter": {
    "hash": "dafbd4f27b171e06f607e8afa1a808db8f1489571d4122bcc8dcca9bb8da7999"
   }
  }
 },
 "nbformat": 4,
 "nbformat_minor": 0
}
