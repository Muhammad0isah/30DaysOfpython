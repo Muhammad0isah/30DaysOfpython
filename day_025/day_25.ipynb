{
 "cells": [
  {
   "cell_type": "markdown",
   "source": [
    "# Day 25 (Pandas)"
   ],
   "metadata": {
    "collapsed": false
   }
  },
  {
   "cell_type": "markdown",
   "source": [
    "### Q1"
   ],
   "metadata": {
    "collapsed": false
   }
  },
  {
   "cell_type": "code",
   "execution_count": 1,
   "outputs": [],
   "source": [
    "import pandas as pd\n",
    "\n",
    "df = pd.read_csv(r'data\\hacker_news.csv')"
   ],
   "metadata": {
    "collapsed": false
   }
  },
  {
   "cell_type": "markdown",
   "source": [
    "### Q2"
   ],
   "metadata": {
    "collapsed": false
   }
  },
  {
   "cell_type": "code",
   "execution_count": 7,
   "outputs": [
    {
     "data": {
      "text/plain": "         id                                              title  \\\n0  12224879                          Interactive Dynamic Video   \n1  11964716  Florida DJs May Face Felony for April Fools' W...   \n2  11919867       Technology ventures: From Idea to Enterprise   \n3  10301696  Note by Note: The Making of Steinway L1037 (2007)   \n4  10482257  Title II kills investment? Comcast and other I...   \n\n                                                 url  num_points  \\\n0            http://www.interactivedynamicvideo.com/         386   \n1  http://www.thewire.com/entertainment/2013/04/f...           2   \n2  https://www.amazon.com/Technology-Ventures-Ent...           3   \n3  http://www.nytimes.com/2007/11/07/movies/07ste...           8   \n4  http://arstechnica.com/business/2015/10/comcas...          53   \n\n   num_comments      author       created_at  \n0            52    ne0phyte   8/4/2016 11:52  \n1             1    vezycash  6/23/2016 22:20  \n2             1     hswarna   6/17/2016 0:01  \n3             2  walterbell   9/30/2015 4:12  \n4            22      Deinos  10/31/2015 9:48  ",
      "text/html": "<div>\n<style scoped>\n    .dataframe tbody tr th:only-of-type {\n        vertical-align: middle;\n    }\n\n    .dataframe tbody tr th {\n        vertical-align: top;\n    }\n\n    .dataframe thead th {\n        text-align: right;\n    }\n</style>\n<table border=\"1\" class=\"dataframe\">\n  <thead>\n    <tr style=\"text-align: right;\">\n      <th></th>\n      <th>id</th>\n      <th>title</th>\n      <th>url</th>\n      <th>num_points</th>\n      <th>num_comments</th>\n      <th>author</th>\n      <th>created_at</th>\n    </tr>\n  </thead>\n  <tbody>\n    <tr>\n      <th>0</th>\n      <td>12224879</td>\n      <td>Interactive Dynamic Video</td>\n      <td>http://www.interactivedynamicvideo.com/</td>\n      <td>386</td>\n      <td>52</td>\n      <td>ne0phyte</td>\n      <td>8/4/2016 11:52</td>\n    </tr>\n    <tr>\n      <th>1</th>\n      <td>11964716</td>\n      <td>Florida DJs May Face Felony for April Fools' W...</td>\n      <td>http://www.thewire.com/entertainment/2013/04/f...</td>\n      <td>2</td>\n      <td>1</td>\n      <td>vezycash</td>\n      <td>6/23/2016 22:20</td>\n    </tr>\n    <tr>\n      <th>2</th>\n      <td>11919867</td>\n      <td>Technology ventures: From Idea to Enterprise</td>\n      <td>https://www.amazon.com/Technology-Ventures-Ent...</td>\n      <td>3</td>\n      <td>1</td>\n      <td>hswarna</td>\n      <td>6/17/2016 0:01</td>\n    </tr>\n    <tr>\n      <th>3</th>\n      <td>10301696</td>\n      <td>Note by Note: The Making of Steinway L1037 (2007)</td>\n      <td>http://www.nytimes.com/2007/11/07/movies/07ste...</td>\n      <td>8</td>\n      <td>2</td>\n      <td>walterbell</td>\n      <td>9/30/2015 4:12</td>\n    </tr>\n    <tr>\n      <th>4</th>\n      <td>10482257</td>\n      <td>Title II kills investment? Comcast and other I...</td>\n      <td>http://arstechnica.com/business/2015/10/comcas...</td>\n      <td>53</td>\n      <td>22</td>\n      <td>Deinos</td>\n      <td>10/31/2015 9:48</td>\n    </tr>\n  </tbody>\n</table>\n</div>"
     },
     "execution_count": 7,
     "metadata": {},
     "output_type": "execute_result"
    }
   ],
   "source": [
    "first_5_rows = df.head(5)\n",
    "first_5_rows"
   ],
   "metadata": {
    "collapsed": false
   }
  },
  {
   "cell_type": "markdown",
   "source": [
    "### Q3"
   ],
   "metadata": {
    "collapsed": false
   }
  },
  {
   "cell_type": "code",
   "execution_count": 11,
   "outputs": [
    {
     "data": {
      "text/plain": "             id                                              title  \\\n20094  12379592  How Purism Avoids Intels Active Management Tec...   \n20095  10339284          YC Application Translated and Broken Down   \n20096  10824382  Microkernels are slow and Elvis didn't do no d...   \n20097  10739875                      How Product Hunt really works   \n20098  11680777  RoboBrowser: Your friendly neighborhood web sc...   \n\n                                                     url  num_points  \\\n20094  https://puri.sm/philosophy/how-purism-avoids-i...          10   \n20095  https://medium.com/@zreitano/the-yc-applicatio...           4   \n20096  http://blog.darknedgy.net/technology/2016/01/0...         169   \n20097  https://medium.com/@benjiwheeler/how-product-h...         695   \n20098              https://github.com/jmcarp/robobrowser         182   \n\n       num_comments         author        created_at  \n20094             6  AdmiralAsshat    8/29/2016 2:22  \n20095             1       zreitano   10/6/2015 14:57  \n20096           132    vezzy-fnord     1/2/2016 0:49  \n20097           222          brw12  12/15/2015 19:32  \n20098            58      pmoriarty    5/12/2016 1:43  ",
      "text/html": "<div>\n<style scoped>\n    .dataframe tbody tr th:only-of-type {\n        vertical-align: middle;\n    }\n\n    .dataframe tbody tr th {\n        vertical-align: top;\n    }\n\n    .dataframe thead th {\n        text-align: right;\n    }\n</style>\n<table border=\"1\" class=\"dataframe\">\n  <thead>\n    <tr style=\"text-align: right;\">\n      <th></th>\n      <th>id</th>\n      <th>title</th>\n      <th>url</th>\n      <th>num_points</th>\n      <th>num_comments</th>\n      <th>author</th>\n      <th>created_at</th>\n    </tr>\n  </thead>\n  <tbody>\n    <tr>\n      <th>20094</th>\n      <td>12379592</td>\n      <td>How Purism Avoids Intels Active Management Tec...</td>\n      <td>https://puri.sm/philosophy/how-purism-avoids-i...</td>\n      <td>10</td>\n      <td>6</td>\n      <td>AdmiralAsshat</td>\n      <td>8/29/2016 2:22</td>\n    </tr>\n    <tr>\n      <th>20095</th>\n      <td>10339284</td>\n      <td>YC Application Translated and Broken Down</td>\n      <td>https://medium.com/@zreitano/the-yc-applicatio...</td>\n      <td>4</td>\n      <td>1</td>\n      <td>zreitano</td>\n      <td>10/6/2015 14:57</td>\n    </tr>\n    <tr>\n      <th>20096</th>\n      <td>10824382</td>\n      <td>Microkernels are slow and Elvis didn't do no d...</td>\n      <td>http://blog.darknedgy.net/technology/2016/01/0...</td>\n      <td>169</td>\n      <td>132</td>\n      <td>vezzy-fnord</td>\n      <td>1/2/2016 0:49</td>\n    </tr>\n    <tr>\n      <th>20097</th>\n      <td>10739875</td>\n      <td>How Product Hunt really works</td>\n      <td>https://medium.com/@benjiwheeler/how-product-h...</td>\n      <td>695</td>\n      <td>222</td>\n      <td>brw12</td>\n      <td>12/15/2015 19:32</td>\n    </tr>\n    <tr>\n      <th>20098</th>\n      <td>11680777</td>\n      <td>RoboBrowser: Your friendly neighborhood web sc...</td>\n      <td>https://github.com/jmcarp/robobrowser</td>\n      <td>182</td>\n      <td>58</td>\n      <td>pmoriarty</td>\n      <td>5/12/2016 1:43</td>\n    </tr>\n  </tbody>\n</table>\n</div>"
     },
     "execution_count": 11,
     "metadata": {},
     "output_type": "execute_result"
    }
   ],
   "source": [
    "last_5_rows = df.tail(5)\n",
    "last_5_rows"
   ],
   "metadata": {
    "collapsed": false
   }
  },
  {
   "cell_type": "markdown",
   "source": [
    "### Q4"
   ],
   "metadata": {
    "collapsed": false
   }
  },
  {
   "cell_type": "code",
   "execution_count": 27,
   "outputs": [
    {
     "data": {
      "text/plain": "0                                Interactive Dynamic Video\n1        Florida DJs May Face Felony for April Fools' W...\n2             Technology ventures: From Idea to Enterprise\n3        Note by Note: The Making of Steinway L1037 (2007)\n4        Title II kills investment? Comcast and other I...\n                               ...                        \n20094    How Purism Avoids Intels Active Management Tec...\n20095            YC Application Translated and Broken Down\n20096    Microkernels are slow and Elvis didn't do no d...\n20097                        How Product Hunt really works\n20098    RoboBrowser: Your friendly neighborhood web sc...\nName: title, Length: 20099, dtype: object"
     },
     "execution_count": 27,
     "metadata": {},
     "output_type": "execute_result"
    }
   ],
   "source": [
    "title_series = pd.Series(df.iloc[:,1])\n",
    "title_series"
   ],
   "metadata": {
    "collapsed": false
   }
  },
  {
   "cell_type": "markdown",
   "source": [
    "### Q5"
   ],
   "metadata": {
    "collapsed": false
   }
  },
  {
   "cell_type": "code",
   "execution_count": 14,
   "outputs": [
    {
     "data": {
      "text/plain": "             id                                              title  \\\n102    10974870                From Python to Lua: Why We Switched   \n103    11244541          Ubuntu 16.04 LTS to Ship Without Python 2   \n144    10963528  Create a GUI Application Using Qt and Python i...   \n196    10716331  How I Solved GCHQ's Xmas Card with Python and ...   \n436    11895088  Unikernel Power Comes to Java, Node.js, Go, an...   \n...         ...                                                ...   \n19597  12061177  David Beazley  Python Concurrency from the Gro...   \n19852  10988468    Ask HN: How to automate Python apps deployment?   \n19862  11738470                          Moving Away from Python 2   \n19980  12524656                      Python vs. Julia Observations   \n19998  11735438  Show HN: Decorating: Animated pulsed for your ...   \n\n                                                     url  num_points  \\\n102    https://www.distelli.com/blog/using-lua-for-ou...         243   \n103    http://news.softpedia.com/news/ubuntu-16-04-lt...           2   \n144                        http://digitalpeer.com/s/c63e          21   \n196    http://matthewearl.github.io/2015/12/10/gchq-x...           6   \n436    http://www.infoworld.com/article/3082051/open-...           3   \n...                                                  ...         ...   \n19597        https://www.youtube.com/watch?v=MCs5OvhV9S4           2   \n19852                                                NaN           4   \n19862  https://asmeurer.github.io/blog/posts/moving-a...         227   \n19980  https://medium.com/@Jernfrost/python-vs-julia-...           2   \n19998             https://github.com/ryukinix/decorating           3   \n\n       num_comments        author        created_at  \n102             188      chase202   1/26/2016 18:17  \n103               1       _snydly    3/8/2016 10:39  \n144               1        zoodle   1/24/2016 19:01  \n196               1          kipi  12/11/2015 10:38  \n436               1  syslandscape   6/13/2016 16:23  \n...             ...           ...               ...  \n19597             1      bakery2k    7/9/2016 13:05  \n19852            18       aalhour   1/28/2016 14:55  \n19862           275     ngoldbaum   5/20/2016 15:14  \n19980             1   blacksmythe    9/18/2016 9:54  \n19998             1         lerax    5/20/2016 3:48  \n\n[160 rows x 7 columns]",
      "text/html": "<div>\n<style scoped>\n    .dataframe tbody tr th:only-of-type {\n        vertical-align: middle;\n    }\n\n    .dataframe tbody tr th {\n        vertical-align: top;\n    }\n\n    .dataframe thead th {\n        text-align: right;\n    }\n</style>\n<table border=\"1\" class=\"dataframe\">\n  <thead>\n    <tr style=\"text-align: right;\">\n      <th></th>\n      <th>id</th>\n      <th>title</th>\n      <th>url</th>\n      <th>num_points</th>\n      <th>num_comments</th>\n      <th>author</th>\n      <th>created_at</th>\n    </tr>\n  </thead>\n  <tbody>\n    <tr>\n      <th>102</th>\n      <td>10974870</td>\n      <td>From Python to Lua: Why We Switched</td>\n      <td>https://www.distelli.com/blog/using-lua-for-ou...</td>\n      <td>243</td>\n      <td>188</td>\n      <td>chase202</td>\n      <td>1/26/2016 18:17</td>\n    </tr>\n    <tr>\n      <th>103</th>\n      <td>11244541</td>\n      <td>Ubuntu 16.04 LTS to Ship Without Python 2</td>\n      <td>http://news.softpedia.com/news/ubuntu-16-04-lt...</td>\n      <td>2</td>\n      <td>1</td>\n      <td>_snydly</td>\n      <td>3/8/2016 10:39</td>\n    </tr>\n    <tr>\n      <th>144</th>\n      <td>10963528</td>\n      <td>Create a GUI Application Using Qt and Python i...</td>\n      <td>http://digitalpeer.com/s/c63e</td>\n      <td>21</td>\n      <td>1</td>\n      <td>zoodle</td>\n      <td>1/24/2016 19:01</td>\n    </tr>\n    <tr>\n      <th>196</th>\n      <td>10716331</td>\n      <td>How I Solved GCHQ's Xmas Card with Python and ...</td>\n      <td>http://matthewearl.github.io/2015/12/10/gchq-x...</td>\n      <td>6</td>\n      <td>1</td>\n      <td>kipi</td>\n      <td>12/11/2015 10:38</td>\n    </tr>\n    <tr>\n      <th>436</th>\n      <td>11895088</td>\n      <td>Unikernel Power Comes to Java, Node.js, Go, an...</td>\n      <td>http://www.infoworld.com/article/3082051/open-...</td>\n      <td>3</td>\n      <td>1</td>\n      <td>syslandscape</td>\n      <td>6/13/2016 16:23</td>\n    </tr>\n    <tr>\n      <th>...</th>\n      <td>...</td>\n      <td>...</td>\n      <td>...</td>\n      <td>...</td>\n      <td>...</td>\n      <td>...</td>\n      <td>...</td>\n    </tr>\n    <tr>\n      <th>19597</th>\n      <td>12061177</td>\n      <td>David Beazley  Python Concurrency from the Gro...</td>\n      <td>https://www.youtube.com/watch?v=MCs5OvhV9S4</td>\n      <td>2</td>\n      <td>1</td>\n      <td>bakery2k</td>\n      <td>7/9/2016 13:05</td>\n    </tr>\n    <tr>\n      <th>19852</th>\n      <td>10988468</td>\n      <td>Ask HN: How to automate Python apps deployment?</td>\n      <td>NaN</td>\n      <td>4</td>\n      <td>18</td>\n      <td>aalhour</td>\n      <td>1/28/2016 14:55</td>\n    </tr>\n    <tr>\n      <th>19862</th>\n      <td>11738470</td>\n      <td>Moving Away from Python 2</td>\n      <td>https://asmeurer.github.io/blog/posts/moving-a...</td>\n      <td>227</td>\n      <td>275</td>\n      <td>ngoldbaum</td>\n      <td>5/20/2016 15:14</td>\n    </tr>\n    <tr>\n      <th>19980</th>\n      <td>12524656</td>\n      <td>Python vs. Julia Observations</td>\n      <td>https://medium.com/@Jernfrost/python-vs-julia-...</td>\n      <td>2</td>\n      <td>1</td>\n      <td>blacksmythe</td>\n      <td>9/18/2016 9:54</td>\n    </tr>\n    <tr>\n      <th>19998</th>\n      <td>11735438</td>\n      <td>Show HN: Decorating: Animated pulsed for your ...</td>\n      <td>https://github.com/ryukinix/decorating</td>\n      <td>3</td>\n      <td>1</td>\n      <td>lerax</td>\n      <td>5/20/2016 3:48</td>\n    </tr>\n  </tbody>\n</table>\n<p>160 rows × 7 columns</p>\n</div>"
     },
     "execution_count": 14,
     "metadata": {},
     "output_type": "execute_result"
    }
   ],
   "source": [
    "# Q5(i) Filter the titles which contain python\n",
    "python_title = df.loc[df['title'].str.contains('Python', case=False)]\n",
    "python_title"
   ],
   "metadata": {
    "collapsed": false
   }
  },
  {
   "cell_type": "code",
   "execution_count": 15,
   "outputs": [
    {
     "data": {
      "text/plain": "             id                                              title  \\\n267    12352636   Show HN: Hire JavaScript - Top JavaScript Talent   \n580    10871330  Python integration for the Duktape Javascript ...   \n811    10741251  Ask HN: Are there any projects or compilers wh...   \n1046   11343334  If you write JavaScript tools or libraries, bu...   \n1093   10422726  Rollup.js: A next-generation JavaScript module...   \n...         ...                                                ...   \n19349  11448301    Fotorama, a responsive JavaScript photo gallery   \n19548  12105148                 Another Kind of JavaScript Fatigue   \n19610  12203508  Lonely programmer detective uncovers the Mozil...   \n19885  12552131  Ask HN: Best Practices for CSS in a Modern Jav...   \n20069  12149183  Show HN: Parse recipe ingredients using JavaSc...   \n\n                                                     url  num_points  \\\n267                              https://www.hirejs.com/           1   \n580               https://pypi.python.org/pypi/pyduktape           3   \n811                                                  NaN           1   \n1046   https://medium.com/@Rich_Harris/how-to-not-bre...          48   \n1093                                 http://rollupjs.org          57   \n...                                                  ...         ...   \n19349                                http://fotorama.io/           1   \n19548  http://chrismm.com/blog/the-other-kind-of-java...           9   \n19610         http://stackoverflow.com/a/38677222/984780          29   \n19885                                                NaN           6   \n20069       https://github.com/herkyl/ingredients-parser           6   \n\n       num_comments          author        created_at  \n267               1        eibrahim   8/24/2016 15:16  \n580               1         stefano    1/9/2016 14:26  \n811               2         ggonweb  12/15/2015 23:26  \n1046             19     callumlocke   3/23/2016 10:54  \n1093             17         dmmalam   10/21/2015 0:02  \n...             ...             ...               ...  \n19349             1         alexkon    4/7/2016 15:59  \n19548             2    JacksCracked    7/16/2016 3:44  \n19610             8    luisperezphd    8/1/2016 16:07  \n19885             6        xwvvvvwx   9/21/2016 20:53  \n20069             2  zongitsrinzler   7/23/2016 11:35  \n\n[170 rows x 7 columns]",
      "text/html": "<div>\n<style scoped>\n    .dataframe tbody tr th:only-of-type {\n        vertical-align: middle;\n    }\n\n    .dataframe tbody tr th {\n        vertical-align: top;\n    }\n\n    .dataframe thead th {\n        text-align: right;\n    }\n</style>\n<table border=\"1\" class=\"dataframe\">\n  <thead>\n    <tr style=\"text-align: right;\">\n      <th></th>\n      <th>id</th>\n      <th>title</th>\n      <th>url</th>\n      <th>num_points</th>\n      <th>num_comments</th>\n      <th>author</th>\n      <th>created_at</th>\n    </tr>\n  </thead>\n  <tbody>\n    <tr>\n      <th>267</th>\n      <td>12352636</td>\n      <td>Show HN: Hire JavaScript - Top JavaScript Talent</td>\n      <td>https://www.hirejs.com/</td>\n      <td>1</td>\n      <td>1</td>\n      <td>eibrahim</td>\n      <td>8/24/2016 15:16</td>\n    </tr>\n    <tr>\n      <th>580</th>\n      <td>10871330</td>\n      <td>Python integration for the Duktape Javascript ...</td>\n      <td>https://pypi.python.org/pypi/pyduktape</td>\n      <td>3</td>\n      <td>1</td>\n      <td>stefano</td>\n      <td>1/9/2016 14:26</td>\n    </tr>\n    <tr>\n      <th>811</th>\n      <td>10741251</td>\n      <td>Ask HN: Are there any projects or compilers wh...</td>\n      <td>NaN</td>\n      <td>1</td>\n      <td>2</td>\n      <td>ggonweb</td>\n      <td>12/15/2015 23:26</td>\n    </tr>\n    <tr>\n      <th>1046</th>\n      <td>11343334</td>\n      <td>If you write JavaScript tools or libraries, bu...</td>\n      <td>https://medium.com/@Rich_Harris/how-to-not-bre...</td>\n      <td>48</td>\n      <td>19</td>\n      <td>callumlocke</td>\n      <td>3/23/2016 10:54</td>\n    </tr>\n    <tr>\n      <th>1093</th>\n      <td>10422726</td>\n      <td>Rollup.js: A next-generation JavaScript module...</td>\n      <td>http://rollupjs.org</td>\n      <td>57</td>\n      <td>17</td>\n      <td>dmmalam</td>\n      <td>10/21/2015 0:02</td>\n    </tr>\n    <tr>\n      <th>...</th>\n      <td>...</td>\n      <td>...</td>\n      <td>...</td>\n      <td>...</td>\n      <td>...</td>\n      <td>...</td>\n      <td>...</td>\n    </tr>\n    <tr>\n      <th>19349</th>\n      <td>11448301</td>\n      <td>Fotorama, a responsive JavaScript photo gallery</td>\n      <td>http://fotorama.io/</td>\n      <td>1</td>\n      <td>1</td>\n      <td>alexkon</td>\n      <td>4/7/2016 15:59</td>\n    </tr>\n    <tr>\n      <th>19548</th>\n      <td>12105148</td>\n      <td>Another Kind of JavaScript Fatigue</td>\n      <td>http://chrismm.com/blog/the-other-kind-of-java...</td>\n      <td>9</td>\n      <td>2</td>\n      <td>JacksCracked</td>\n      <td>7/16/2016 3:44</td>\n    </tr>\n    <tr>\n      <th>19610</th>\n      <td>12203508</td>\n      <td>Lonely programmer detective uncovers the Mozil...</td>\n      <td>http://stackoverflow.com/a/38677222/984780</td>\n      <td>29</td>\n      <td>8</td>\n      <td>luisperezphd</td>\n      <td>8/1/2016 16:07</td>\n    </tr>\n    <tr>\n      <th>19885</th>\n      <td>12552131</td>\n      <td>Ask HN: Best Practices for CSS in a Modern Jav...</td>\n      <td>NaN</td>\n      <td>6</td>\n      <td>6</td>\n      <td>xwvvvvwx</td>\n      <td>9/21/2016 20:53</td>\n    </tr>\n    <tr>\n      <th>20069</th>\n      <td>12149183</td>\n      <td>Show HN: Parse recipe ingredients using JavaSc...</td>\n      <td>https://github.com/herkyl/ingredients-parser</td>\n      <td>6</td>\n      <td>2</td>\n      <td>zongitsrinzler</td>\n      <td>7/23/2016 11:35</td>\n    </tr>\n  </tbody>\n</table>\n<p>170 rows × 7 columns</p>\n</div>"
     },
     "execution_count": 15,
     "metadata": {},
     "output_type": "execute_result"
    }
   ],
   "source": [
    "# Q5(ii) Filter the titles which contain JavaScript\n",
    "js_title = df.loc[df['title'].str.contains('JavaScript', case=False)]\n",
    "js_title"
   ],
   "metadata": {
    "collapsed": false
   }
  },
  {
   "cell_type": "code",
   "execution_count": 16,
   "outputs": [
    {
     "data": {
      "text/plain": "                 id    num_points  num_comments\ncount  2.009900e+04  20099.000000  20099.000000\nmean   1.131755e+07     50.296632     24.803025\nstd    6.964531e+05    107.110322     56.108639\nmin    1.017691e+07      1.000000      1.000000\n25%    1.070172e+07      3.000000      1.000000\n50%    1.128452e+07      9.000000      3.000000\n75%    1.192613e+07     54.000000     21.000000\nmax    1.257898e+07   2553.000000   1733.000000",
      "text/html": "<div>\n<style scoped>\n    .dataframe tbody tr th:only-of-type {\n        vertical-align: middle;\n    }\n\n    .dataframe tbody tr th {\n        vertical-align: top;\n    }\n\n    .dataframe thead th {\n        text-align: right;\n    }\n</style>\n<table border=\"1\" class=\"dataframe\">\n  <thead>\n    <tr style=\"text-align: right;\">\n      <th></th>\n      <th>id</th>\n      <th>num_points</th>\n      <th>num_comments</th>\n    </tr>\n  </thead>\n  <tbody>\n    <tr>\n      <th>count</th>\n      <td>2.009900e+04</td>\n      <td>20099.000000</td>\n      <td>20099.000000</td>\n    </tr>\n    <tr>\n      <th>mean</th>\n      <td>1.131755e+07</td>\n      <td>50.296632</td>\n      <td>24.803025</td>\n    </tr>\n    <tr>\n      <th>std</th>\n      <td>6.964531e+05</td>\n      <td>107.110322</td>\n      <td>56.108639</td>\n    </tr>\n    <tr>\n      <th>min</th>\n      <td>1.017691e+07</td>\n      <td>1.000000</td>\n      <td>1.000000</td>\n    </tr>\n    <tr>\n      <th>25%</th>\n      <td>1.070172e+07</td>\n      <td>3.000000</td>\n      <td>1.000000</td>\n    </tr>\n    <tr>\n      <th>50%</th>\n      <td>1.128452e+07</td>\n      <td>9.000000</td>\n      <td>3.000000</td>\n    </tr>\n    <tr>\n      <th>75%</th>\n      <td>1.192613e+07</td>\n      <td>54.000000</td>\n      <td>21.000000</td>\n    </tr>\n    <tr>\n      <th>max</th>\n      <td>1.257898e+07</td>\n      <td>2553.000000</td>\n      <td>1733.000000</td>\n    </tr>\n  </tbody>\n</table>\n</div>"
     },
     "execution_count": 16,
     "metadata": {},
     "output_type": "execute_result"
    }
   ],
   "source": [
    "# Q5(iii) Explore the data and make sense of it\n",
    "df.describe()"
   ],
   "metadata": {
    "collapsed": false
   }
  }
 ],
 "metadata": {
  "kernelspec": {
   "display_name": "Python 3",
   "language": "python",
   "name": "python3"
  },
  "language_info": {
   "codemirror_mode": {
    "name": "ipython",
    "version": 2
   },
   "file_extension": ".py",
   "mimetype": "text/x-python",
   "name": "python",
   "nbconvert_exporter": "python",
   "pygments_lexer": "ipython2",
   "version": "2.7.6"
  }
 },
 "nbformat": 4,
 "nbformat_minor": 0
}
