{
 "cells": [
  {
   "cell_type": "markdown",
   "source": [
    "# Day 18 (Regular Expression)"
   ],
   "metadata": {
    "collapsed": false
   }
  },
  {
   "cell_type": "markdown",
   "source": [
    "## Exercises: Level 1\n"
   ],
   "metadata": {
    "collapsed": false
   }
  },
  {
   "cell_type": "markdown",
   "source": [
    "### Q1"
   ],
   "metadata": {
    "collapsed": false
   }
  },
  {
   "cell_type": "code",
   "execution_count": 1,
   "outputs": [
    {
     "data": {
      "text/plain": "[('love', 6),\n ('you', 5),\n ('can', 3),\n ('I', 2),\n ('do', 2),\n ('not', 2),\n ('what', 2),\n ('else', 2),\n ('teaching.', 1),\n ('If', 1),\n ('teaching', 1),\n ('Python', 1),\n ('if', 1),\n ('something', 1),\n ('which', 1),\n ('give', 1),\n ('all', 1),\n ('the', 1),\n ('capabilities', 1),\n ('to', 1),\n ('develop', 1),\n ('an', 1),\n ('application', 1)]"
     },
     "execution_count": 1,
     "metadata": {},
     "output_type": "execute_result"
    }
   ],
   "source": [
    "import re\n",
    "from collections import Counter\n",
    "paragraph = 'I love teaching. If you do not love teaching what else can you love I love Python if you do not love something which can give you all the capabilities to develop an application what else can you love'\n",
    "\n",
    "def most_common_words(text):\n",
    "    split_it = text.split(' ')\n",
    "    my_counter = Counter(split_it).most_common()\n",
    "    return my_counter\n",
    "most_common_words(paragraph)"
   ],
   "metadata": {
    "collapsed": false
   }
  },
  {
   "cell_type": "markdown",
   "source": [
    "### Q2"
   ],
   "metadata": {
    "collapsed": false
   }
  },
  {
   "cell_type": "code",
   "execution_count": 2,
   "outputs": [
    {
     "name": "stdout",
     "output_type": "stream",
     "text": [
      "points =  [-1, 2, -4, -3, -1, 0, 4, 8]\n",
      "sorted point =  [-4, -3, -1, -1, 0, 2, 4, 8]\n",
      "distance =  12\n"
     ]
    }
   ],
   "source": [
    "str = 'The position of some particles on the horizontal x-axis are -12, -4, -3 and -1 in the negative direction, 0 at origin, 4 and 8 in the positive direction.'\n",
    "num_list = list(map(int, re.findall(r\"[-+]?[.]?[\\d]\", str)))\n",
    "print('points = ',num_list)\n",
    "sorted_num_list = sorted(num_list)\n",
    "print('sorted point = ', sorted_num_list)\n",
    "distance = sorted_num_list[-1] - sorted_num_list[0]\n",
    "print('distance = ', distance )\n"
   ],
   "metadata": {
    "collapsed": false
   }
  },
  {
   "cell_type": "markdown",
   "source": [
    "## Exercises: Level 2"
   ],
   "metadata": {
    "collapsed": false
   }
  },
  {
   "cell_type": "markdown",
   "source": [
    "### Q1"
   ],
   "metadata": {
    "collapsed": false
   }
  },
  {
   "cell_type": "code",
   "execution_count": 3,
   "outputs": [
    {
     "name": "stdout",
     "output_type": "stream",
     "text": [
      "True\n",
      "False\n",
      "False\n",
      "True\n"
     ]
    }
   ],
   "source": [
    "def is_valid_variable(str):\n",
    "    if re.search(r\"^[a-zA-Z_]\\w*$\", str):\n",
    "        print(True)\n",
    "    else:\n",
    "        print(False)\n",
    "\n",
    "is_valid_variable('first_name') # True\n",
    "is_valid_variable('first-name') # False\n",
    "is_valid_variable('1first_name') # False\n",
    "is_valid_variable('firstname') # True"
   ],
   "metadata": {
    "collapsed": false
   }
  },
  {
   "cell_type": "markdown",
   "source": [
    "## Exercises: Level 3"
   ],
   "metadata": {
    "collapsed": false
   }
  },
  {
   "cell_type": "markdown",
   "source": [
    "### Q1"
   ],
   "metadata": {
    "collapsed": false
   }
  },
  {
   "cell_type": "code",
   "execution_count": 7,
   "outputs": [
    {
     "name": "stdout",
     "output_type": "stream",
     "text": [
      "I am a teacher and I love teaching There is nothing as more rewarding as educating and empowering people I found teaching more interesting than any other jobs Does this motivate you to be a teacher\n",
      "Most Common words:\n",
      "[('I', 3), ('a', 2), ('teacher', 2), ('and', 2), ('teaching', 2), ('as', 2), ('more', 2), ('am', 1), ('love', 1), ('There', 1), ('is', 1), ('nothing', 1), ('rewarding', 1), ('educating', 1), ('empowering', 1), ('people', 1), ('found', 1), ('interesting', 1), ('than', 1), ('any', 1), ('other', 1), ('jobs', 1), ('Does', 1), ('this', 1), ('motivate', 1), ('you', 1), ('to', 1), ('be', 1)]\n"
     ]
    }
   ],
   "source": [
    "import string\n",
    "\n",
    "def clean_text(str):\n",
    "    str = re.sub(\"[%s]\" % re.escape(string.punctuation), \"\", str)\n",
    "    return str\n",
    "\n",
    "sentence = '''%I $am@% a %tea@cher%, &and& I lo%#ve %tea@ching%;. There $is nothing; &as& mo@re rewarding as educa@ting &and& @emp%o@wering peo@ple. ;I found tea@ching m%o@re interesting tha@n any other %jo@bs. %Do@es thi%s mo@tivate yo@u to be a tea@cher!?'''\n",
    "\n",
    "print(clean_text(sentence))\n",
    "print('Most Common words:')\n",
    "print(most_common_words(clean_text(sentence)))"
   ],
   "metadata": {
    "collapsed": false
   }
  }
 ],
 "metadata": {
  "kernelspec": {
   "display_name": "Python 3",
   "language": "python",
   "name": "python3"
  },
  "language_info": {
   "codemirror_mode": {
    "name": "ipython",
    "version": 2
   },
   "file_extension": ".py",
   "mimetype": "text/x-python",
   "name": "python",
   "nbconvert_exporter": "python",
   "pygments_lexer": "ipython2",
   "version": "2.7.6"
  }
 },
 "nbformat": 4,
 "nbformat_minor": 0
}
