{
 "cells": [
  {
   "cell_type": "markdown",
   "metadata": {
    "collapsed": false
   },
   "source": [
    "# Day 16 (Datetime)"
   ]
  },
  {
   "cell_type": "markdown",
   "metadata": {
    "collapsed": false
   },
   "source": [
    "## Q1"
   ]
  },
  {
   "cell_type": "code",
   "execution_count": 22,
   "metadata": {
    "collapsed": false
   },
   "outputs": [
    {
     "name": "stdout",
     "output_type": "stream",
     "text": [
      "current day:  22\n",
      "current month:  2\n",
      "current year:  2023\n",
      "current hour:  10\n",
      "current minute:  34\n",
      "current timestamp:  1677058475.168388\n"
     ]
    }
   ],
   "source": [
    "from datetime import datetime\n",
    "\n",
    "now = datetime.now()\n",
    "\n",
    "day = now.day\n",
    "month = now.month\n",
    "year = now.year\n",
    "hour = now.hour\n",
    "minute = now.minute\n",
    "timestamp = now.timestamp()\n",
    "\n",
    "print('current day: ', day)\n",
    "print('current month: ', month)\n",
    "print('current year: ', year)\n",
    "print('current hour: ', hour)\n",
    "print('current minute: ', minute)\n",
    "print('current timestamp: ', timestamp)"
   ]
  },
  {
   "cell_type": "markdown",
   "metadata": {
    "collapsed": false
   },
   "source": [
    "## Q2"
   ]
  },
  {
   "cell_type": "code",
   "execution_count": 24,
   "metadata": {
    "collapsed": false
   },
   "outputs": [
    {
     "name": "stdout",
     "output_type": "stream",
     "text": [
      "02/22/2023, 10:34:35\n"
     ]
    }
   ],
   "source": [
    "current_date = now.strftime(\"%m/%d/%Y, %H:%M:%S\")\n",
    "print(current_date)"
   ]
  },
  {
   "cell_type": "markdown",
   "metadata": {
    "collapsed": false
   },
   "source": [
    "## Q3"
   ]
  },
  {
   "cell_type": "code",
   "execution_count": 28,
   "metadata": {
    "collapsed": false
   },
   "outputs": [
    {
     "name": "stdout",
     "output_type": "stream",
     "text": [
      "date_object = 2019-12-05 00:00:00\n"
     ]
    }
   ],
   "source": [
    "date_str = '5 December, 2019'\n",
    "date_obj = datetime.strptime(date_str, \"%d %B, %Y\")\n",
    "print(\"date_object =\", date_obj)"
   ]
  },
  {
   "cell_type": "markdown",
   "metadata": {
    "collapsed": false
   },
   "source": [
    "## Q4"
   ]
  },
  {
   "cell_type": "code",
   "execution_count": 31,
   "metadata": {
    "collapsed": false
   },
   "outputs": [
    {
     "name": "stdout",
     "output_type": "stream",
     "text": [
      "2023-02-22 10:47:52.549031\n",
      "2024-01-01 00:00:00\n",
      "312 days, 13:12:07.450969\n"
     ]
    }
   ],
   "source": [
    "now = datetime.now()\n",
    "new_year_str = '1 January, 2024'\n",
    "new_year = datetime.strptime(new_year_str, \"%d %B, %Y\")\n",
    "print(now)\n",
    "print(new_year)\n",
    "\n",
    "diffrence = new_year - now\n",
    "print(diffrence)"
   ]
  },
  {
   "cell_type": "markdown",
   "metadata": {
    "collapsed": false
   },
   "source": [
    "## Q5"
   ]
  },
  {
   "cell_type": "code",
   "execution_count": 36,
   "metadata": {
    "collapsed": false
   },
   "outputs": [
    {
     "name": "stdout",
     "output_type": "stream",
     "text": [
      "1970-01-01 00:00:00\n",
      "diffrence:  19410 days, 10:47:52.549031\n"
     ]
    }
   ],
   "source": [
    "first_jan_str = '1 January 1970'\n",
    "first_jan_date = datetime.strptime(first_jan_str, \"%d %B %Y\")\n",
    "print(first_jan_date)\n",
    "\n",
    "diff = now - first_jan_date\n",
    "print('diffrence: ', diff)\n"
   ]
  }
 ],
 "metadata": {
  "kernelspec": {
   "display_name": "Python 3",
   "language": "python",
   "name": "python3"
  },
  "language_info": {
   "codemirror_mode": {
    "name": "ipython",
    "version": 2
   },
   "file_extension": ".py",
   "mimetype": "text/x-python",
   "name": "python",
   "nbconvert_exporter": "python",
   "pygments_lexer": "ipython2",
   "version": "3.10.1"
  },
  "vscode": {
   "interpreter": {
    "hash": "dafbd4f27b171e06f607e8afa1a808db8f1489571d4122bcc8dcca9bb8da7999"
   }
  }
 },
 "nbformat": 4,
 "nbformat_minor": 0
}
