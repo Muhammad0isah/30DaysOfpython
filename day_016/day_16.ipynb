{
 "cells": [
  {
   "cell_type": "markdown",
   "source": [
    "# Day 16 (Datetime)"
   ],
   "metadata": {
    "collapsed": false
   }
  },
  {
   "cell_type": "markdown",
   "source": [
    "## Q1"
   ],
   "metadata": {
    "collapsed": false
   }
  },
  {
   "cell_type": "code",
   "execution_count": 22,
   "outputs": [
    {
     "name": "stdout",
     "output_type": "stream",
     "text": [
      "current day:  22\n",
      "current month:  2\n",
      "current year:  2023\n",
      "current hour:  10\n",
      "current minute:  34\n",
      "current timestamp:  1677058475.168388\n"
     ]
    }
   ],
   "source": [
    "from datetime import datetime\n",
    "\n",
    "now = datetime.now()\n",
    "\n",
    "day = now.day\n",
    "month = now.month\n",
    "year = now.year\n",
    "hour = now.hour\n",
    "minute = now.minute\n",
    "timestamp = now.timestamp()\n",
    "\n",
    "print('current day: ', day)\n",
    "print('current month: ', month)\n",
    "print('current year: ', year)\n",
    "print('current hour: ', hour)\n",
    "print('current minute: ', minute)\n",
    "print('current timestamp: ', timestamp)"
   ],
   "metadata": {
    "collapsed": false
   }
  },
  {
   "cell_type": "markdown",
   "source": [
    "## Q2"
   ],
   "metadata": {
    "collapsed": false
   }
  },
  {
   "cell_type": "code",
   "execution_count": 24,
   "outputs": [
    {
     "name": "stdout",
     "output_type": "stream",
     "text": [
      "02/22/2023, 10:34:35\n"
     ]
    }
   ],
   "source": [
    "current_date = now.strftime(\"%m/%d/%Y, %H:%M:%S\")\n",
    "print(current_date)"
   ],
   "metadata": {
    "collapsed": false
   }
  },
  {
   "cell_type": "markdown",
   "source": [
    "## Q3"
   ],
   "metadata": {
    "collapsed": false
   }
  },
  {
   "cell_type": "code",
   "execution_count": 28,
   "outputs": [
    {
     "name": "stdout",
     "output_type": "stream",
     "text": [
      "date_object = 2019-12-05 00:00:00\n"
     ]
    }
   ],
   "source": [
    "date_str = '5 December, 2019'\n",
    "date_obj = datetime.strptime(date_str, \"%d %B, %Y\")\n",
    "print(\"date_object =\", date_obj)"
   ],
   "metadata": {
    "collapsed": false
   }
  },
  {
   "cell_type": "markdown",
   "source": [
    "## Q4"
   ],
   "metadata": {
    "collapsed": false
   }
  },
  {
   "cell_type": "code",
   "execution_count": 31,
   "outputs": [
    {
     "name": "stdout",
     "output_type": "stream",
     "text": [
      "2023-02-22 10:47:52.549031\n",
      "2024-01-01 00:00:00\n",
      "312 days, 13:12:07.450969\n"
     ]
    }
   ],
   "source": [
    "now = datetime.now()\n",
    "new_year_str = '1 January, 2024'\n",
    "new_year = datetime.strptime(new_year_str, \"%d %B, %Y\")\n",
    "print(now)\n",
    "print(new_year)\n",
    "\n",
    "diffrence = new_year - now\n",
    "print(diffrence)"
   ],
   "metadata": {
    "collapsed": false
   }
  },
  {
   "cell_type": "markdown",
   "source": [
    "## Q5"
   ],
   "metadata": {
    "collapsed": false
   }
  },
  {
   "cell_type": "code",
   "execution_count": 36,
   "outputs": [
    {
     "name": "stdout",
     "output_type": "stream",
     "text": [
      "1970-01-01 00:00:00\n",
      "diffrence:  19410 days, 10:47:52.549031\n"
     ]
    }
   ],
   "source": [
    "first_jan_str = '1 January 1970'\n",
    "first_jan_date = datetime.strptime(first_jan_str, \"%d %B %Y\")\n",
    "print(first_jan_date)\n",
    "\n",
    "diff = now - first_jan_date\n",
    "print('diffrence: ', diff)"
   ],
   "metadata": {
    "collapsed": false
   }
  }
 ],
 "metadata": {
  "kernelspec": {
   "display_name": "Python 3",
   "language": "python",
   "name": "python3"
  },
  "language_info": {
   "codemirror_mode": {
    "name": "ipython",
    "version": 2
   },
   "file_extension": ".py",
   "mimetype": "text/x-python",
   "name": "python",
   "nbconvert_exporter": "python",
   "pygments_lexer": "ipython2",
   "version": "2.7.6"
  }
 },
 "nbformat": 4,
 "nbformat_minor": 0
}
