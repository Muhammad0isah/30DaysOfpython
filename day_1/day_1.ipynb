{
 "cells": [
  {
   "cell_type": "markdown",
   "id": "dada3e7c",
   "metadata": {},
   "source": [
    "# Day 1"
   ]
  },
  {
   "cell_type": "markdown",
   "id": "edb9d35a",
   "metadata": {},
   "source": [
    "## Exercise: Level 2\n"
   ]
  },
  {
   "cell_type": "markdown",
   "id": "ea2e510c",
   "metadata": {},
   "source": [
    "## Q1"
   ]
  },
  {
   "cell_type": "code",
   "execution_count": 1,
   "id": "956363c9",
   "metadata": {},
   "outputs": [
    {
     "name": "stdout",
     "output_type": "stream",
     "text": [
      "3.8.8\n"
     ]
    }
   ],
   "source": [
    "from platform import python_version\n",
    "\n",
    "print(python_version())"
   ]
  },
  {
   "cell_type": "markdown",
   "id": "922d3a27",
   "metadata": {},
   "source": [
    "## Q2"
   ]
  },
  {
   "cell_type": "code",
   "execution_count": 2,
   "id": "7e281c08",
   "metadata": {},
   "outputs": [
    {
     "name": "stdout",
     "output_type": "stream",
     "text": [
      "7\n",
      "-1\n",
      "12\n",
      "0.75\n",
      "81\n",
      "3\n",
      "0\n"
     ]
    }
   ],
   "source": [
    "print(3 + 4)\n",
    "print(3 - 4)\n",
    "print(3 * 4)\n",
    "print(3 / 4)\n",
    "print(3 ** 4)\n",
    "print(3 % 4)\n",
    "print(3 // 4)"
   ]
  },
  {
   "cell_type": "markdown",
   "id": "89d6573c",
   "metadata": {},
   "source": [
    "## Q3"
   ]
  },
  {
   "cell_type": "code",
   "execution_count": 3,
   "id": "1ce68a6d",
   "metadata": {},
   "outputs": [
    {
     "name": "stdout",
     "output_type": "stream",
     "text": [
      "Muhammad\n",
      "Ibrahim Isah\n",
      "Nigeria\n",
      "I am enjoying 30 day of python\n"
     ]
    }
   ],
   "source": [
    "print('Muhammad')\n",
    "print('Ibrahim Isah')\n",
    "print('Nigeria')\n",
    "print('I am enjoying 30 day of python')"
   ]
  },
  {
   "cell_type": "markdown",
   "id": "fd573172",
   "metadata": {},
   "source": [
    "## Q4"
   ]
  },
  {
   "cell_type": "code",
   "execution_count": 4,
   "id": "7c094b38",
   "metadata": {},
   "outputs": [
    {
     "name": "stdout",
     "output_type": "stream",
     "text": [
      "<class 'int'>\n",
      "<class 'float'>\n",
      "<class 'float'>\n",
      "<class 'complex'>\n",
      "<class 'list'>\n",
      "<class 'str'>\n",
      "<class 'str'>\n",
      "<class 'str'>\n"
     ]
    }
   ],
   "source": [
    "print(type(10))\n",
    "print(type(9.8))\n",
    "print(type(3.14))\n",
    "print(type(4-4j))\n",
    "print(type(['Asabeneh','Python','Finland']))\n",
    "print(type('Muhammad'))\n",
    "print(type('Ibrahim Isah'))\n",
    "print(type('Nigeria'))"
   ]
  },
  {
   "cell_type": "markdown",
   "id": "18476c87",
   "metadata": {},
   "source": [
    "## Exercise: Level 2\n"
   ]
  },
  {
   "cell_type": "markdown",
   "id": "00b463a9",
   "metadata": {},
   "source": [
    "## Q1"
   ]
  },
  {
   "cell_type": "code",
   "execution_count": 5,
   "id": "cacb0d98",
   "metadata": {},
   "outputs": [
    {
     "name": "stdout",
     "output_type": "stream",
     "text": [
      "1\n",
      "1.23\n",
      "(2+3j)\n",
      "Welcome to 30 days of Python\n",
      "True\n",
      "[1, 2, 3, 4, 5]\n",
      "('name', 'age', 'country')\n",
      "{'name', 'age', 'country'}\n",
      "{1: 'one', 2: 'two', 3: 'three'}\n"
     ]
    }
   ],
   "source": [
    "# no 1\n",
    "print(1)  # Integer\n",
    "print(1.23)  # Float\n",
    "print(2 + 3j)  # Complex\n",
    "print(\"Welcome to 30 days of Python\")  # String\n",
    "print(True)  # Boolean\n",
    "print([1, 2, 3, 4, 5])  # List\n",
    "print(('name', 'age', 'country'))  # Tuple\n",
    "print({'name', 'age', 'country'})  # Set\n",
    "print({1: 'one', 2: 'two', 3: 'three'})  # Dictionary"
   ]
  },
  {
   "cell_type": "markdown",
   "id": "ac56e0a2",
   "metadata": {},
   "source": [
    "## Q2"
   ]
  },
  {
   "cell_type": "code",
   "execution_count": 6,
   "id": "4f96a8b2",
   "metadata": {},
   "outputs": [
    {
     "name": "stdout",
     "output_type": "stream",
     "text": [
      "the euclidean distance between (2,3) and (10,8) =  9.433981132056603\n"
     ]
    }
   ],
   "source": [
    "# no 2 Euclidean distance\n",
    "x1, y1 = 2, 3\n",
    "x2, y2 = 10, 8\n",
    "distance = (((x2 - x1) ** 2) + ((y2 - y1) ** 2)) ** 0.5\n",
    "print(\"the euclidean distance between (2,3) and (10,8) = \", distance)"
   ]
  }
 ],
 "metadata": {
  "kernelspec": {
   "display_name": "Python 3",
   "language": "python",
   "name": "python3"
  },
  "language_info": {
   "codemirror_mode": {
    "name": "ipython",
    "version": 3
   },
   "file_extension": ".py",
   "mimetype": "text/x-python",
   "name": "python",
   "nbconvert_exporter": "python",
   "pygments_lexer": "ipython3",
   "version": "3.8.8"
  }
 },
 "nbformat": 4,
 "nbformat_minor": 5
}
