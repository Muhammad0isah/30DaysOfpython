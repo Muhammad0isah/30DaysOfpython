{
 "cells": [
  {
   "cell_type": "markdown",
   "metadata": {},
   "source": [
    "# Day 2"
   ]
  },
  {
   "cell_type": "markdown",
   "metadata": {},
   "source": [
    "## Exercises: Level 1\n"
   ]
  },
  {
   "cell_type": "code",
   "execution_count": 1,
   "metadata": {},
   "outputs": [],
   "source": [
    "# no 3\n",
    "first_name = \"Muhammad\"\n",
    "# no 4\n",
    "last_name = \"Ibrahim\"\n",
    "# no 5\n",
    "full_name = \"Muhammad Ibrahim Isah\"\n",
    "# no 6\n",
    "country = \"Nigeria\"\n",
    "# no 7\n",
    "city = \"Kano\"\n",
    "# no 8\n",
    "age = 25\n",
    "# no 9\n",
    "year = 2023\n",
    "# no 10\n",
    "is_married = \"No\"\n",
    "# no 11\n",
    "is_true = True\n",
    "# no 12\n",
    "is_light_on = \"Yes\"\n",
    "# no 13\n",
    "x1,x2,x3 = 2,4,6"
   ]
  },
  {
   "cell_type": "markdown",
   "metadata": {},
   "source": [
    "## Exercise: Level 2"
   ]
  },
  {
   "cell_type": "markdown",
   "metadata": {},
   "source": [
    "## Q1"
   ]
  },
  {
   "cell_type": "code",
   "execution_count": 2,
   "metadata": {},
   "outputs": [
    {
     "name": "stdout",
     "output_type": "stream",
     "text": [
      "<class 'str'>\n",
      "<class 'str'>\n",
      "<class 'str'>\n",
      "<class 'int'>\n",
      "<class 'int'>\n",
      "<class 'str'>\n",
      "<class 'bool'>\n",
      "<class 'str'>\n",
      "<class 'int'>\n",
      "<class 'int'>\n"
     ]
    }
   ],
   "source": [
    "# no 1\n",
    "x1, x2 = 2, 4\n",
    "print(type(full_name))\n",
    "print(type(country))\n",
    "print(type(city))\n",
    "print(type(age))\n",
    "print(type(year))\n",
    "print(type(is_married))\n",
    "print(type(is_true))\n",
    "print(type(is_light_on))\n",
    "print(type(x1))\n",
    "print(type(x2))"
   ]
  },
  {
   "cell_type": "markdown",
   "metadata": {},
   "source": [
    "## Q2"
   ]
  },
  {
   "cell_type": "code",
   "execution_count": 3,
   "metadata": {},
   "outputs": [
    {
     "name": "stdout",
     "output_type": "stream",
     "text": [
      "8\n"
     ]
    }
   ],
   "source": [
    "# no 2\n",
    "\n",
    "print(len(first_name))"
   ]
  },
  {
   "cell_type": "markdown",
   "metadata": {},
   "source": [
    "## Q3"
   ]
  },
  {
   "cell_type": "code",
   "execution_count": 4,
   "metadata": {},
   "outputs": [
    {
     "name": "stdout",
     "output_type": "stream",
     "text": [
      "False\n"
     ]
    }
   ],
   "source": [
    "# no 3\n",
    "print(len(first_name) == len(last_name))"
   ]
  },
  {
   "cell_type": "markdown",
   "metadata": {},
   "source": [
    "## Q4"
   ]
  },
  {
   "cell_type": "code",
   "execution_count": 5,
   "metadata": {},
   "outputs": [
    {
     "name": "stdout",
     "output_type": "stream",
     "text": [
      "9\n",
      "a + b =  9\n",
      "a - b =  1\n",
      "a * b =  20\n",
      "a / b =  20\n",
      "a % b =  1\n",
      "a // b =  1\n",
      "a ** b =  625\n"
     ]
    }
   ],
   "source": [
    "# no 4\n",
    "num_one = 5\n",
    "num_two = 4\n",
    "\n",
    "total = num_one + num_two\n",
    "diff = num_one - num_two\n",
    "product = num_one * num_two\n",
    "division = num_one * num_two\n",
    "remainder = num_one % num_two\n",
    "exp = num_one ** num_two\n",
    "floor_division = num_one // num_two\n",
    "\n",
    "print(total)\n",
    "print('a + b = ', total)\n",
    "print('a - b = ', diff)\n",
    "print('a * b = ', product)\n",
    "print('a / b = ', division)\n",
    "print('a % b = ', remainder)\n",
    "print('a // b = ', floor_division)\n",
    "print('a ** b = ', exp)"
   ]
  },
  {
   "cell_type": "markdown",
   "metadata": {},
   "source": [
    "## Q5"
   ]
  },
  {
   "cell_type": "code",
   "execution_count": 6,
   "metadata": {},
   "outputs": [
    {
     "name": "stdout",
     "output_type": "stream",
     "text": [
      "Area of circle =  2826.0\n",
      "Circumference of circle =  188.4\n"
     ]
    }
   ],
   "source": [
    "# no 5\n",
    "\n",
    "radius = 30\n",
    "area_of_circle = 3.14 * pow(radius, 2)\n",
    "print(\"Area of circle = \", area_of_circle)\n",
    "\n",
    "circum_of_circle = 2 * 3.14 * radius;\n",
    "print(\"Circumference of circle = \",circum_of_circle)"
   ]
  },
  {
   "cell_type": "markdown",
   "metadata": {},
   "source": [
    "## Q6"
   ]
  },
  {
   "cell_type": "code",
   "execution_count": 7,
   "metadata": {},
   "outputs": [
    {
     "name": "stdout",
     "output_type": "stream",
     "text": [
      "Enter your first name: Muhammad\n",
      "Enter your last_name: Ibrahim\n",
      "Enter your country: Nigeria\n",
      "Enter your age: 25\n"
     ]
    }
   ],
   "source": [
    "# no 6\n",
    "first_name = input(\"Enter your first name: \")\n",
    "last_name = input(\"Enter your last_name: \")\n",
    "country = input(\"Enter your country: \")\n",
    "age = input(\"Enter your age: \")"
   ]
  }
 ],
 "metadata": {
  "kernelspec": {
   "display_name": "Python 3 (ipykernel)",
   "language": "python",
   "name": "python3"
  },
  "language_info": {
   "codemirror_mode": {
    "name": "ipython",
    "version": 3
   },
   "file_extension": ".py",
   "mimetype": "text/x-python",
   "name": "python",
   "nbconvert_exporter": "python",
   "pygments_lexer": "ipython3",
   "version": "3.8.8"
  },
  "vscode": {
   "interpreter": {
    "hash": "99ebbddb4d26d80122836a1451186d0c9e365e5714863c74660ee872bfd6eb66"
   }
  }
 },
 "nbformat": 4,
 "nbformat_minor": 2
}
