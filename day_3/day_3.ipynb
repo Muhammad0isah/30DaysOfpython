{
 "cells": [
  {
   "cell_type": "markdown",
   "metadata": {},
   "source": [
    "# Day 3 "
   ]
  },
  {
   "cell_type": "markdown",
   "metadata": {},
   "source": [
    "## Q1"
   ]
  },
  {
   "cell_type": "code",
   "execution_count": 1,
   "metadata": {},
   "outputs": [],
   "source": [
    "# no 1\n",
    "age = 25"
   ]
  },
  {
   "cell_type": "markdown",
   "metadata": {},
   "source": [
    "## Q2"
   ]
  },
  {
   "cell_type": "code",
   "execution_count": 2,
   "metadata": {},
   "outputs": [],
   "source": [
    "# no 2\n",
    "height = 48.5\n"
   ]
  },
  {
   "cell_type": "markdown",
   "metadata": {},
   "source": [
    "## Q3"
   ]
  },
  {
   "cell_type": "code",
   "execution_count": 3,
   "metadata": {},
   "outputs": [],
   "source": [
    "# no 3\n",
    "complex_number = 3 + 2j"
   ]
  },
  {
   "cell_type": "markdown",
   "metadata": {},
   "source": [
    "## Q4"
   ]
  },
  {
   "cell_type": "code",
   "execution_count": 4,
   "metadata": {},
   "outputs": [
    {
     "name": "stdout",
     "output_type": "stream",
     "text": [
      "Enter base: 4\n",
      "Enter height: 6\n",
      "The area of the triangle is  12.0\n"
     ]
    }
   ],
   "source": [
    "# no 4\n",
    "b = float(input(\"Enter base: \"))\n",
    "h = float(input(\"Enter height: \"))\n",
    "\n",
    "area = 0.5 * b * h\n",
    "print(\"The area of the triangle is \", area)"
   ]
  },
  {
   "cell_type": "markdown",
   "metadata": {},
   "source": [
    "## Q5"
   ]
  },
  {
   "cell_type": "code",
   "execution_count": 5,
   "metadata": {},
   "outputs": [
    {
     "name": "stdout",
     "output_type": "stream",
     "text": [
      "Enter side a: 6\n",
      "Enter side b: 3\n",
      "Enter side c: 8\n",
      "The perimeter of the triangle is  17\n"
     ]
    }
   ],
   "source": [
    "# no 5\n",
    "a = int(input(\"Enter side a: \"))\n",
    "b = int(input(\"Enter side b: \"))\n",
    "c = int(input(\"Enter side c: \"))\n",
    "\n",
    "perimeter = a + b + c\n",
    "print(\"The perimeter of the triangle is \", perimeter)"
   ]
  },
  {
   "cell_type": "markdown",
   "metadata": {},
   "source": [
    "## Q6"
   ]
  },
  {
   "cell_type": "code",
   "execution_count": 6,
   "metadata": {},
   "outputs": [
    {
     "name": "stdout",
     "output_type": "stream",
     "text": [
      "Enter length: 3\n",
      "Enter width: 5\n",
      "The perimeter of rectangle is  16\n"
     ]
    }
   ],
   "source": [
    "# no 6\n",
    "length = int(input(\"Enter length: \"))\n",
    "width = int(input(\"Enter width: \"))\n",
    "rect_area = 2 * (length + width)\n",
    "print(\"The perimeter of rectangle is \", rect_area)"
   ]
  },
  {
   "cell_type": "markdown",
   "metadata": {},
   "source": [
    "## Q7"
   ]
  },
  {
   "cell_type": "code",
   "execution_count": 7,
   "metadata": {},
   "outputs": [
    {
     "name": "stdout",
     "output_type": "stream",
     "text": [
      "Enter radius: 4\n",
      "The area of circle is  50.24\n"
     ]
    }
   ],
   "source": [
    "# no 7\n",
    "r = float(input(\"Enter radius: \"))\n",
    "circle_area = 3.14 * r * r\n",
    "print(\"The area of circle is \", circle_area)\n"
   ]
  },
  {
   "cell_type": "markdown",
   "metadata": {},
   "source": [
    "## Q8"
   ]
  },
  {
   "cell_type": "code",
   "execution_count": 8,
   "metadata": {},
   "outputs": [
    {
     "name": "stdout",
     "output_type": "stream",
     "text": [
      "X intercept:  1\n",
      "Y intercept:  -2\n",
      "Slope:  2\n"
     ]
    }
   ],
   "source": [
    "# no 8\n",
    "print(\"X intercept: \", 1)\n",
    "print(\"Y intercept: \", -2)\n",
    "print(\"Slope: \", 2)"
   ]
  },
  {
   "cell_type": "markdown",
   "metadata": {},
   "source": [
    "## Q9"
   ]
  },
  {
   "cell_type": "code",
   "execution_count": 9,
   "metadata": {},
   "outputs": [
    {
     "name": "stdout",
     "output_type": "stream",
     "text": [
      "Slope is  2.0\n",
      "Euclidean distance is  8.94427190999916\n"
     ]
    }
   ],
   "source": [
    "# no 9\n",
    "x1, x2 = 2, 6\n",
    "y1, y2 = 2, 10\n",
    "m = (y2 - y1) / (x2 - x1)\n",
    "distance = ((x2 - x1) ** 2 + (y2 - y1) ** 2) ** 0.5\n",
    "print(\"Slope is \", m)\n",
    "print(\"Euclidean distance is \", distance)\n",
    "\n"
   ]
  },
  {
   "cell_type": "markdown",
   "metadata": {},
   "source": [
    "## Q10"
   ]
  },
  {
   "cell_type": "code",
   "execution_count": 10,
   "metadata": {},
   "outputs": [
    {
     "name": "stdout",
     "output_type": "stream",
     "text": [
      "2.0\n"
     ]
    }
   ],
   "source": [
    "# no 10\n",
    "print(2 if 2 < (y2 - y1) / (x2 - x1) else (y2 - y1) / (x2 - x1))"
   ]
  },
  {
   "cell_type": "markdown",
   "metadata": {},
   "source": [
    "## Q11"
   ]
  },
  {
   "cell_type": "code",
   "execution_count": 11,
   "metadata": {},
   "outputs": [
    {
     "name": "stdout",
     "output_type": "stream",
     "text": [
      "y =  1  at x =  -4\n",
      "y =  0  at x =  -3\n",
      "y =  1  at x =  -2\n",
      "y =  4  at x =  -1\n",
      "y =  9  at x =  0\n",
      "y =  16  at x =  1\n",
      "y =  25  at x =  2\n"
     ]
    }
   ],
   "source": [
    "# no 11\n",
    "for x in range(-4, 3):\n",
    "    y = x ** 2 + 6 * x + 9\n",
    "    print(\"y = \", y, \" at x = \", x)"
   ]
  },
  {
   "cell_type": "markdown",
   "metadata": {},
   "source": [
    "## Q12"
   ]
  },
  {
   "cell_type": "code",
   "execution_count": 12,
   "metadata": {},
   "outputs": [
    {
     "name": "stdout",
     "output_type": "stream",
     "text": [
      "False\n"
     ]
    }
   ],
   "source": [
    "\n",
    "# no 12\n",
    "print(len('python') != len('dragon'))"
   ]
  },
  {
   "cell_type": "markdown",
   "metadata": {},
   "source": [
    "## Q13"
   ]
  },
  {
   "cell_type": "code",
   "execution_count": 13,
   "metadata": {},
   "outputs": [
    {
     "name": "stdout",
     "output_type": "stream",
     "text": [
      "True\n"
     ]
    }
   ],
   "source": [
    "# no 13\n",
    "print('on' in 'python' and 'on' in 'dragon')"
   ]
  },
  {
   "cell_type": "markdown",
   "metadata": {},
   "source": [
    "## Q14"
   ]
  },
  {
   "cell_type": "code",
   "execution_count": 14,
   "metadata": {},
   "outputs": [
    {
     "name": "stdout",
     "output_type": "stream",
     "text": [
      "True\n"
     ]
    }
   ],
   "source": [
    "# no 14\n",
    "sentence = 'I hope this course is not full of jargon'\n",
    "print('jargon' in sentence)"
   ]
  },
  {
   "cell_type": "markdown",
   "metadata": {},
   "source": [
    "## Q15"
   ]
  },
  {
   "cell_type": "code",
   "execution_count": 15,
   "metadata": {},
   "outputs": [
    {
     "name": "stdout",
     "output_type": "stream",
     "text": [
      "False\n"
     ]
    }
   ],
   "source": [
    "# no 15\n",
    "print('on' not in ('python' or 'dragon'))"
   ]
  },
  {
   "cell_type": "markdown",
   "metadata": {},
   "source": [
    "## Q16"
   ]
  },
  {
   "cell_type": "code",
   "execution_count": 16,
   "metadata": {},
   "outputs": [],
   "source": [
    "# no 16\n",
    "text = 'python'\n",
    "length_text = len(text)\n",
    "l_text_float = float(length_text)\n",
    "l_t_f_string = str(l_text_float)"
   ]
  },
  {
   "cell_type": "markdown",
   "metadata": {},
   "source": [
    "## Q17"
   ]
  },
  {
   "cell_type": "code",
   "execution_count": 17,
   "metadata": {},
   "outputs": [
    {
     "name": "stdout",
     "output_type": "stream",
     "text": [
      "even\n"
     ]
    }
   ],
   "source": [
    "# no 17\n",
    "n = 16\n",
    "if n % 2 == 0:\n",
    "    print(\"even\")\n",
    "else:\n",
    "    print(\"not even\")"
   ]
  },
  {
   "cell_type": "markdown",
   "metadata": {},
   "source": [
    "## Q18"
   ]
  },
  {
   "cell_type": "code",
   "execution_count": 18,
   "metadata": {},
   "outputs": [],
   "source": [
    "# no 18\n",
    "floor_division = 7 // 3"
   ]
  },
  {
   "cell_type": "markdown",
   "metadata": {},
   "source": [
    "## Q19"
   ]
  },
  {
   "cell_type": "code",
   "execution_count": 19,
   "metadata": {},
   "outputs": [
    {
     "name": "stdout",
     "output_type": "stream",
     "text": [
      "False\n"
     ]
    }
   ],
   "source": [
    "# no 19\n",
    "print(type('10') is type(10))"
   ]
  },
  {
   "cell_type": "markdown",
   "metadata": {},
   "source": [
    "## Q20"
   ]
  },
  {
   "cell_type": "code",
   "execution_count": 28,
   "metadata": {},
   "outputs": [
    {
     "name": "stdout",
     "output_type": "stream",
     "text": [
      "False\n"
     ]
    }
   ],
   "source": [
    "# no 20\n",
    "print(int(9.8) == 10)"
   ]
  },
  {
   "cell_type": "markdown",
   "metadata": {},
   "source": [
    "## Q21"
   ]
  },
  {
   "cell_type": "code",
   "execution_count": 29,
   "metadata": {},
   "outputs": [
    {
     "name": "stdout",
     "output_type": "stream",
     "text": [
      "Enter hours: 8\n",
      "Enter rate per hour: 34\n",
      "Your weekly earning is  272\n"
     ]
    }
   ],
   "source": [
    "# no 21\n",
    "hours = int(input(\"Enter hours: \"))\n",
    "rate_per_hour = int(input(\"Enter rate per hour: \"))\n",
    "earning = hours * rate_per_hour\n",
    "print(\"Your weekly earning is \", earning)"
   ]
  },
  {
   "cell_type": "markdown",
   "metadata": {},
   "source": [
    "## Q22"
   ]
  },
  {
   "cell_type": "code",
   "execution_count": 30,
   "metadata": {},
   "outputs": [
    {
     "name": "stdout",
     "output_type": "stream",
     "text": [
      "Enter number year you have lived: 25\n",
      "You have lived for  788400000  second\n"
     ]
    }
   ],
   "source": [
    "# no 22\n",
    "year = int(input(\"Enter number year you have lived: \"))\n",
    "second = year * 365 * 24 * 60 * 60\n",
    "print(\"You have lived for \",second, \" second\")"
   ]
  },
  {
   "cell_type": "markdown",
   "metadata": {},
   "source": [
    "## Q23"
   ]
  },
  {
   "cell_type": "code",
   "execution_count": 31,
   "metadata": {},
   "outputs": [
    {
     "name": "stdout",
     "output_type": "stream",
     "text": [
      "1 1 1 1 1\n",
      "2 1 2 4 8\n",
      "3 1 3 9 27\n",
      "4 1 4 16 64\n",
      "5 1 5 25 125\n"
     ]
    }
   ],
   "source": [
    "# no 23\n",
    "for i in range(1, 6):\n",
    "    print(i, i ** 0, i ** 1, i ** 2, i ** 3)"
   ]
  }
 ],
 "metadata": {
  "kernelspec": {
   "display_name": "Python 3 (ipykernel)",
   "language": "python",
   "name": "python3"
  },
  "language_info": {
   "codemirror_mode": {
    "name": "ipython",
    "version": 3
   },
   "file_extension": ".py",
   "mimetype": "text/x-python",
   "name": "python",
   "nbconvert_exporter": "python",
   "pygments_lexer": "ipython3",
   "version": "3.8.16"
  },
  "vscode": {
   "interpreter": {
    "hash": "223d0e69fb1bc40fb993a964fccf265a209560ee24e028174653ab7e762eeb9e"
   }
  }
 },
 "nbformat": 4,
 "nbformat_minor": 2
}
