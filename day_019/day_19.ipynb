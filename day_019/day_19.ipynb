{
 "cells": [
  {
   "cell_type": "markdown",
   "source": [
    "# Day 19 (File Handling)"
   ],
   "metadata": {
    "collapsed": false
   }
  },
  {
   "cell_type": "markdown",
   "source": [
    "## Exercises: Level 1"
   ],
   "metadata": {
    "collapsed": false
   }
  },
  {
   "cell_type": "markdown",
   "source": [
    "### Q1"
   ],
   "metadata": {
    "collapsed": false
   }
  },
  {
   "cell_type": "code",
   "execution_count": 68,
   "outputs": [
    {
     "name": "stdout",
     "output_type": "stream",
     "text": [
      "Obama Speech \n",
      "Number of words:  2400\n",
      "Number of lines:  66\n",
      "\n",
      "Michelle Obama Speech\n",
      "Number of words:  2204\n",
      "Number of lines:  83\n",
      "\n",
      "Donald Speech \n",
      "Number of words:  1259\n",
      "Number of lines:  48\n",
      "\n",
      "Melania Trump Speech\n",
      "Number of words:  1375\n",
      "Number of lines:  33\n"
     ]
    }
   ],
   "source": [
    "import os\n",
    "def counter(file_name):\n",
    "    num_words = 0\n",
    "    num_lines = 0\n",
    "\n",
    "    with open(file_name, \"r\") as f:\n",
    "        for line in f:\n",
    "            line = line.strip(os.linesep)\n",
    "            words_list = line.split()\n",
    "            num_lines += 1\n",
    "            num_words += len(words_list)\n",
    "\n",
    "    print(\"Number of words: \", num_words)\n",
    "    print(\"Number of lines: \", num_lines)\n",
    "\n",
    "# Q1(a) Read obama_speech.txt\n",
    "print(\"Obama Speech \")\n",
    "counter('./data/obama_speech.txt')\n",
    "\n",
    "# Q1(b) Read michelle_obama_speech.txt\n",
    "print(\"\\nMichelle Obama Speech\")\n",
    "counter(\"./data/michelle_obama_speech.txt\")\n",
    "\n",
    "# Q1(c) Read donald_speech.txt\n",
    "print(\"\\nDonald Speech \")\n",
    "counter(\"./data/donald_speech.txt\")\n",
    "\n",
    "# Q1(d) Read melina_trump_speech.txt\n",
    "print(\"\\nMelania Trump Speech\")\n",
    "counter(\"./data/melina_trump_speech.txt\")"
   ],
   "metadata": {
    "collapsed": false
   }
  },
  {
   "cell_type": "markdown",
   "source": [
    "### Q2"
   ],
   "metadata": {
    "collapsed": false
   }
  },
  {
   "cell_type": "code",
   "execution_count": 85,
   "outputs": [
    {
     "name": "stdout",
     "output_type": "stream",
     "text": [
      "top 10 most spoken languages from the data\n",
      "[(91, 'English'), (45, 'French'), (25, 'Arabic'), (24, 'Spanish'), (9, 'Portuguese'), (9, 'Russian'), (8, 'Dutch'), (7, 'German'), (5, 'Chinese'), (4, 'Serbian')]\n",
      "top 4 most spoken languages from the data\n",
      "[(91, 'English'), (45, 'French'), (25, 'Arabic'), (24, 'Spanish')]\n"
     ]
    }
   ],
   "source": [
    "import json\n",
    "\n",
    "def most_spoken_languages(filename,value):\n",
    "\n",
    "    languages_lst = []\n",
    "    for i in json.load(open(filename,encoding=\"UTF8\")):\n",
    "        languages_lst.extend(i['languages'])\n",
    "\n",
    "    #print('Total number of languages is',len(set(languages_lst)))\n",
    "    languages_dict = {}\n",
    "    for j in languages_lst:\n",
    "        if j in languages_dict:\n",
    "            languages_dict[j] += 1\n",
    "        else:\n",
    "            languages_dict[j] = 1\n",
    "    # sort languages dictionary by value to get top language\n",
    "    sorted_language_dict= dict(sorted(languages_dict.items(),key=lambda x:x[1],reverse=True))\n",
    "\n",
    "    # get top languages list by passing value\n",
    "    top_language = list(sorted_language_dict.items())[:value]\n",
    "    print(\"top {} most spoken languages from the data\".format(value))\n",
    "    return [(i[1],i[0]) for  i in top_language]\n",
    "\n",
    "print(most_spoken_languages('./data/countries_data.json',10))\n",
    "print(most_spoken_languages('./data/countries_data.json',4))\n"
   ],
   "metadata": {
    "collapsed": false
   }
  },
  {
   "cell_type": "markdown",
   "source": [
    "### Q3"
   ],
   "metadata": {
    "collapsed": false
   }
  },
  {
   "cell_type": "code",
   "execution_count": 84,
   "outputs": [
    {
     "name": "stdout",
     "output_type": "stream",
     "text": [
      "top 10 most populated countries in the world\n",
      "[{'country': 'China', 'populations': 1377422166}, {'country': 'India', 'populations': 1295210000}, {'country': 'United States of America', 'populations': 323947000}, {'country': 'Indonesia', 'populations': 258705000}, {'country': 'Brazil', 'populations': 206135893}, {'country': 'Pakistan', 'populations': 194125062}, {'country': 'Nigeria', 'populations': 186988000}, {'country': 'Bangladesh', 'populations': 161006790}, {'country': 'Russian Federation', 'populations': 146599183}, {'country': 'Japan', 'populations': 126960000}]\n",
      "top 4 most populated countries in the world\n",
      "[{'country': 'China', 'populations': 1377422166}, {'country': 'India', 'populations': 1295210000}, {'country': 'United States of America', 'populations': 323947000}, {'country': 'Indonesia', 'populations': 258705000}]\n"
     ]
    }
   ],
   "source": [
    "def most_populated_countries(filename,value):\n",
    "    populations = {}\n",
    "    for i in json.load(open(filename,encoding=\"UTF8\")):\n",
    "        populations[i[\"name\"]] = i[\"population\"]\n",
    "    sorted_populations_dict= dict(sorted(populations.items(),key=lambda x:x[1],reverse=True))\n",
    "    top_most_populated_countries = []\n",
    "    for l in list(sorted_populations_dict.items())[:value]:\n",
    "        top_most_populated_countries.append({'country':l[0],'populations':l[1]})\n",
    "\n",
    "    print(\"top {} most populated countries in the world\".format(value))\n",
    "    return top_most_populated_countries\n",
    "\n",
    "print(most_populated_countries('./data/countries_data.json',10))\n",
    "print(most_populated_countries('./data/countries_data.json',4))\n",
    "\n"
   ],
   "metadata": {
    "collapsed": false
   }
  },
  {
   "cell_type": "markdown",
   "source": [
    "## Exercises: Level 2"
   ],
   "metadata": {
    "collapsed": false
   }
  },
  {
   "cell_type": "markdown",
   "source": [
    "### Q4"
   ],
   "metadata": {
    "collapsed": false
   }
  }
 ],
 "metadata": {
  "kernelspec": {
   "display_name": "Python 3",
   "language": "python",
   "name": "python3"
  },
  "language_info": {
   "codemirror_mode": {
    "name": "ipython",
    "version": 2
   },
   "file_extension": ".py",
   "mimetype": "text/x-python",
   "name": "python",
   "nbconvert_exporter": "python",
   "pygments_lexer": "ipython2",
   "version": "2.7.6"
  }
 },
 "nbformat": 4,
 "nbformat_minor": 0
}
