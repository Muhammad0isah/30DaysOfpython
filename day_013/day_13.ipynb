{
 "cells": [
  {
   "cell_type": "markdown",
   "source": [
    "# Day 13 (List Comprehension)"
   ],
   "metadata": {
    "collapsed": false
   }
  },
  {
   "cell_type": "markdown",
   "source": [
    "### Q1"
   ],
   "metadata": {
    "collapsed": false
   }
  },
  {
   "cell_type": "code",
   "execution_count": 4,
   "outputs": [
    {
     "name": "stdout",
     "output_type": "stream",
     "text": [
      "[-4, -3, -2, -1, 0]\n"
     ]
    }
   ],
   "source": [
    "numbers = [-4, -3, -2, -1, 0, 2, 4, 6]\n",
    "my_filter = [i for i in numbers if i <= 0]\n",
    "print(my_filter)"
   ],
   "metadata": {
    "collapsed": false
   }
  },
  {
   "cell_type": "markdown",
   "source": [
    "### Q2"
   ],
   "metadata": {
    "collapsed": false
   }
  },
  {
   "cell_type": "code",
   "execution_count": 6,
   "outputs": [
    {
     "name": "stdout",
     "output_type": "stream",
     "text": [
      "[1, 2, 3, 4, 5, 6, 7, 8, 9]\n"
     ]
    }
   ],
   "source": [
    "list_of_lists = [[[1, 2, 3]], [[4, 5, 6]], [[7, 8, 9]]]\n",
    "flatten_list =  [i for j in list_of_lists for k in j for i in k]\n",
    "print(flatten_list)"
   ],
   "metadata": {
    "collapsed": false
   }
  },
  {
   "cell_type": "markdown",
   "source": [
    "### Q3"
   ],
   "metadata": {
    "collapsed": false
   }
  },
  {
   "cell_type": "code",
   "execution_count": 9,
   "outputs": [
    {
     "data": {
      "text/plain": "[(0, 1, 0, 0, 0, 0, 0),\n (1, 1, 1, 1, 1, 1, 1),\n (2, 1, 2, 4, 8, 16, 32),\n (3, 1, 3, 9, 27, 81, 243),\n (4, 1, 4, 16, 64, 256, 1024),\n (5, 1, 5, 25, 125, 625, 3125),\n (6, 1, 6, 36, 216, 1296, 7776),\n (7, 1, 7, 49, 343, 2401, 16807),\n (8, 1, 8, 64, 512, 4096, 32768),\n (9, 1, 9, 81, 729, 6561, 59049),\n (10, 1, 10, 100, 1000, 10000, 100000)]"
     },
     "execution_count": 9,
     "metadata": {},
     "output_type": "execute_result"
    }
   ],
   "source": [
    "def generate_list_of_tuples():\n",
    "    list_of_tuples = []\n",
    "    for i in range(11):\n",
    "        list_of_tuples.append((i, i ** 0, i ** 1, i ** 2, i ** 3, i ** 4, i ** 5))\n",
    "    return list_of_tuples\n",
    "generate_list_of_tuples()"
   ],
   "metadata": {
    "collapsed": false
   }
  },
  {
   "cell_type": "markdown",
   "source": [
    "### Q4"
   ],
   "metadata": {
    "collapsed": false
   }
  },
  {
   "cell_type": "code",
   "execution_count": 10,
   "outputs": [
    {
     "name": "stdout",
     "output_type": "stream",
     "text": [
      "[['FINLAND', 'FIN', 'HELSINKI'], ['SWEDEN', 'SWE', 'STOCKHOLM'], ['NORWAY', 'NOR', 'OSLO']]\n"
     ]
    }
   ],
   "source": [
    "countries = [[('Finland', 'Helsinki')], [('Sweden', 'Stockholm')], [('Norway', 'Oslo')]]\n",
    "\n",
    "f_countries = [[j[0].upper(), j[0].upper()[:3], j[1].upper()] for i in countries for j in i]\n",
    "print(f_countries)"
   ],
   "metadata": {
    "collapsed": false
   }
  },
  {
   "cell_type": "markdown",
   "source": [
    "### Q5"
   ],
   "metadata": {
    "collapsed": false
   }
  },
  {
   "cell_type": "code",
   "execution_count": 11,
   "outputs": [
    {
     "data": {
      "text/plain": "[{'country': 'FINLAND', 'city': 'HELSINKI'},\n {'country': 'SWEDEN', 'city': 'STOCKHOLM'},\n {'country': 'NORWAY', 'city': 'OSLO'}]"
     },
     "execution_count": 11,
     "metadata": {},
     "output_type": "execute_result"
    }
   ],
   "source": [
    "def list_to_list_of_dict():\n",
    "    countries = [[('Finland', 'Helsinki')], [('Sweden', 'Stockholm')], [('Norway', 'Oslo')]]\n",
    "    f_countries = [[j[0].upper(), j[1].upper()] for i in countries for j in i]\n",
    "    countries_dict = [i for j in f_countries for i in j]\n",
    "    keys = [\"country\", \"city\"]\n",
    "    return [{keys[0]: countries_dict[i], keys[1]: countries_dict[i + 1]} for i in range(0, len(countries_dict), 2)]\n",
    "\n",
    "list_to_list_of_dict()\n"
   ],
   "metadata": {
    "collapsed": false
   }
  },
  {
   "cell_type": "markdown",
   "source": [
    "### Q6"
   ],
   "metadata": {
    "collapsed": false
   }
  },
  {
   "cell_type": "code",
   "execution_count": 14,
   "outputs": [
    {
     "name": "stdout",
     "output_type": "stream",
     "text": [
      "['Asabeneh Yetayeh', 'David Smith', 'Donald Trump', 'Bill Gates']\n"
     ]
    }
   ],
   "source": [
    "names = [[('Asabeneh', 'Yetayeh')], [('David', 'Smith')], [('Donald', 'Trump')], [('Bill', 'Gates')]]\n",
    "f_names = [x for sub in names for sub2 in sub for x in sub2]\n",
    "concatenate_name = [f_names[i] + ' ' + f_names[i + 1] for i in range(0, len(f_names), 2)]\n",
    "print(concatenate_name)\n"
   ],
   "metadata": {
    "collapsed": false
   }
  },
  {
   "cell_type": "markdown",
   "source": [
    "### Q7"
   ],
   "metadata": {
    "collapsed": false
   }
  },
  {
   "cell_type": "code",
   "execution_count": 17,
   "outputs": [
    {
     "name": "stdout",
     "output_type": "stream",
     "text": [
      "1.25\n",
      "-0.5\n"
     ]
    }
   ],
   "source": [
    "slope = lambda x1, y1, x2, y2: (y2 - y1) / (x2 - x1)\n",
    "y_intercept = lambda x1, y1, x2, y2: y1 - slope(x1, y1, x2, y2) * x1\n",
    "\n",
    "print(slope(2,2,6,7))\n",
    "print(y_intercept(2,2,6,7))\n"
   ],
   "metadata": {
    "collapsed": false
   }
  }
 ],
 "metadata": {
  "kernelspec": {
   "display_name": "Python 3",
   "language": "python",
   "name": "python3"
  },
  "language_info": {
   "codemirror_mode": {
    "name": "ipython",
    "version": 2
   },
   "file_extension": ".py",
   "mimetype": "text/x-python",
   "name": "python",
   "nbconvert_exporter": "python",
   "pygments_lexer": "ipython2",
   "version": "2.7.6"
  }
 },
 "nbformat": 4,
 "nbformat_minor": 0
}
