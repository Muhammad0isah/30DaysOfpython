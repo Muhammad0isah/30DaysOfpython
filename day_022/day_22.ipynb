{
 "cells": [
  {
   "cell_type": "markdown",
   "source": [
    "# Day 22 (Web Scrapping)"
   ],
   "metadata": {
    "collapsed": false
   }
  },
  {
   "cell_type": "markdown",
   "source": [
    "### Q1"
   ],
   "metadata": {
    "collapsed": false
   }
  },
  {
   "cell_type": "code",
   "execution_count": 3,
   "outputs": [],
   "source": [
    "import json\n",
    "\n",
    "import requests\n",
    "from bs4 import BeautifulSoup\n",
    "\n",
    "url = \"https://www.bu.edu/president/boston-university-facts-stats/\"\n",
    "response = requests.get(url)\n",
    "content = response.content\n",
    "soup = BeautifulSoup(content, 'html.parser')\n",
    "tables = soup.findAll('div', {\"class\": \"facts-wrapper\"})\n",
    "\n",
    "list_of_tables = []\n",
    "\n",
    "for i in tables:\n",
    "    keys = []\n",
    "    values = []\n",
    "    temp_dict = {}\n",
    "    i = str(i)\n",
    "    category = i[i.find('<h5>') + 4: i.find('</h5>')]\n",
    "    temp_dict['Category'] = category\n",
    "    all_key_start_indexes = [x+7 for x in range(len(i)) if i.startswith('\"text\">', x)]\n",
    "    all_key_end_indexes = [x for x in range(len(i)) if i.startswith('</p>', x)]\n",
    "\n",
    "    for l in range(len(all_key_start_indexes)):\n",
    "        keys.append(i[all_key_start_indexes[l]:all_key_end_indexes[l]])\n",
    "\n",
    "    all_values_start_indexes = []\n",
    "    for v in range(len(i)):\n",
    "        if i.startswith('value\">', v):\n",
    "            all_values_start_indexes.append(v+7)\n",
    "        if i.startswith('value-text\">', v):\n",
    "            all_values_start_indexes.append(v+12)\n",
    "    all_values_end_indexes = [x for x in range(len(i)) if i.startswith('</span>', x)]\n",
    "\n",
    "    for m in range(len(all_values_end_indexes)):\n",
    "        values.append(i[all_values_start_indexes[m]:all_values_end_indexes[m]])\n",
    "\n",
    "    for r in range(len(keys)):\n",
    "        temp_dict[keys[r]] = values[r]\n",
    "    list_of_tables.append(temp_dict)\n",
    "\n",
    "with open(\"ex1.json\", 'w') as fp:\n",
    "    json.dump(list_of_tables, fp)"
   ],
   "metadata": {
    "collapsed": false
   }
  },
  {
   "cell_type": "markdown",
   "source": [
    "### Q2"
   ],
   "metadata": {
    "collapsed": false
   }
  },
  {
   "cell_type": "code",
   "execution_count": 6,
   "outputs": [],
   "source": [
    "import requests\n",
    "import pandas as pd\n",
    "import csv\n",
    "import json\n",
    "from os import remove\n",
    "\n",
    "url = 'https://archive.ics.uci.edu/ml/datasets.php'\n",
    "df = pd.read_html(requests.get(url).content)[5]\n",
    "df.to_csv('scrapped_data.csv', header=None)\n",
    "\n",
    "\n",
    "def make_json(csvFilePath, jsonFilePath):\n",
    "    data = {}\n",
    "\n",
    "    with open(csvFilePath, encoding='utf-8') as csvf:\n",
    "        csvReader = csv.DictReader(csvf)\n",
    "\n",
    "        for rows in csvReader:\n",
    "            key = rows['Name']\n",
    "            data[key] = rows\n",
    "\n",
    "    with open(jsonFilePath, 'w', encoding='utf-8') as jsonf:\n",
    "        jsonf.write(json.dumps(data, indent=4))\n",
    "\n",
    "\n",
    "csvFilePath = r'scrapped_data.csv'\n",
    "jsonFilePath = r'scrapped_datasets.json'\n",
    "make_json(csvFilePath, jsonFilePath)\n"
   ],
   "metadata": {
    "collapsed": false
   }
  },
  {
   "cell_type": "markdown",
   "source": [
    "### Q3"
   ],
   "metadata": {
    "collapsed": false
   }
  },
  {
   "cell_type": "code",
   "execution_count": 5,
   "outputs": [],
   "source": [
    "import requests\n",
    "import pandas as pd\n",
    "import csv\n",
    "import json\n",
    "from os import remove\n",
    "\n",
    "url = 'https://en.wikipedia.org/wiki/List_of_presidents_of_the_United_States'\n",
    "df = pd.read_html(requests.get(url).content)\n",
    "df = df[1]\n",
    "df = df.iloc[:-1]\n",
    "nan_value = float(\"NaN\")\n",
    "df.replace(\"\", nan_value, inplace=True)\n",
    "df.dropna(how='all', axis=1, inplace=True)\n",
    "df.to_csv('presidents.csv')\n",
    "\n",
    "\n",
    "def make_json(csvFilePath, jsonFilePath):\n",
    "    data = {}\n",
    "\n",
    "    with open(csvFilePath, encoding='utf-8') as csvf:\n",
    "        csvReader = csv.DictReader(csvf)\n",
    "\n",
    "        for rows in csvReader:\n",
    "            key = rows['']\n",
    "            data[key] = rows\n",
    "\n",
    "    with open(jsonFilePath, 'w', encoding='utf-8') as jsonf:\n",
    "        jsonf.write(json.dumps(data, indent=4, ensure_ascii=False))\n",
    "\n",
    "\n",
    "csvFilePath = r'presidents.csv'\n",
    "jsonFilePath = r'presidents.json'\n",
    "make_json(csvFilePath, jsonFilePath)\n"
   ],
   "metadata": {
    "collapsed": false
   }
  }
 ],
 "metadata": {
  "kernelspec": {
   "display_name": "Python 3",
   "language": "python",
   "name": "python3"
  },
  "language_info": {
   "codemirror_mode": {
    "name": "ipython",
    "version": 2
   },
   "file_extension": ".py",
   "mimetype": "text/x-python",
   "name": "python",
   "nbconvert_exporter": "python",
   "pygments_lexer": "ipython2",
   "version": "2.7.6"
  }
 },
 "nbformat": 4,
 "nbformat_minor": 0
}
