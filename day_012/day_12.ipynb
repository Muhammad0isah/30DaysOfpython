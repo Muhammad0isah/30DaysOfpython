{
 "cells": [
  {
   "cell_type": "markdown",
   "metadata": {
    "collapsed": false
   },
   "source": [
    "# Day 12 (Modules)"
   ]
  },
  {
   "cell_type": "markdown",
   "metadata": {
    "collapsed": false
   },
   "source": [
    "## Exercise: Level 1"
   ]
  },
  {
   "cell_type": "markdown",
   "metadata": {
    "collapsed": false
   },
   "source": [
    "### Q1"
   ]
  },
  {
   "cell_type": "code",
   "execution_count": 1,
   "metadata": {
    "collapsed": false
   },
   "outputs": [
    {
     "name": "stdout",
     "output_type": "stream",
     "text": [
      "jpsi8f\n"
     ]
    }
   ],
   "source": [
    "import random\n",
    "char_str = 'abcdefghijklmnopqrstuvwxyz1234567890'\n",
    "\n",
    "def random_user_id():\n",
    "    user_id = ''\n",
    "    for i in range(6):\n",
    "        user_id += random.choice(char_str)\n",
    "    return user_id\n",
    "print(random_user_id())"
   ]
  },
  {
   "cell_type": "markdown",
   "metadata": {
    "collapsed": false
   },
   "source": [
    "### Q2"
   ]
  },
  {
   "cell_type": "code",
   "execution_count": 4,
   "metadata": {
    "collapsed": false
   },
   "outputs": [
    {
     "name": "stdout",
     "output_type": "stream",
     "text": [
      "62lyc\n",
      "ki095\n",
      "10wll\n",
      "28i57\n",
      "ic4yp\n",
      "None\n",
      "cimig3e88jb91x5c\n",
      "uzr8xemr8y19x0qp\n",
      "dip4a3sd0spe6t9h\n",
      "858tocueaeuiexxy\n",
      "sbr5qngx4ytyukz3\n",
      "None\n"
     ]
    }
   ],
   "source": [
    "char_str = 'abcdefghijklmnopqrstuvwxyz1234567890'\n",
    "\n",
    "def user_id_gen_by_user():\n",
    "    num_char = int(input('Enter number of characters: '))\n",
    "    num_id = int(input('Enter number of IDs  to be generated: '))\n",
    "    for _ in range(num_id):\n",
    "        identity = ''.join([random.choice(char_str) for i in range(num_char)])\n",
    "        print(identity)\n",
    "print(user_id_gen_by_user())\n",
    "print(user_id_gen_by_user())"
   ]
  },
  {
   "cell_type": "markdown",
   "metadata": {
    "collapsed": false
   },
   "source": [
    "### Q3"
   ]
  },
  {
   "cell_type": "code",
   "execution_count": null,
   "metadata": {
    "collapsed": false
   },
   "outputs": [],
   "source": []
  },
  {
   "cell_type": "code",
   "execution_count": 12,
   "metadata": {
    "collapsed": false
   },
   "outputs": [
    {
     "name": "stdout",
     "output_type": "stream",
     "text": [
      "rgb(96,55,189)\n"
     ]
    }
   ],
   "source": [
    "def rgb_color_gen():\n",
    "    r = str(random.randint(0, 255))\n",
    "    g = str(random.randint(0, 255))\n",
    "    b = str(random.randint(0, 255))\n",
    "    return \"rgb\"+ \"(\" + r + \",\" + g + \",\" + b + \")\"\n",
    "print(rgb_color_gen())\n"
   ]
  },
  {
   "cell_type": "markdown",
   "metadata": {
    "collapsed": false
   },
   "source": [
    "## Exercises: Level 2"
   ]
  },
  {
   "cell_type": "markdown",
   "metadata": {
    "collapsed": false
   },
   "source": [
    "### Q1"
   ]
  },
  {
   "cell_type": "code",
   "execution_count": 43,
   "metadata": {
    "collapsed": false
   },
   "outputs": [
    {
     "data": {
      "text/plain": [
       "['#3ebd11', '#019b95', '#fb69e2']"
      ]
     },
     "execution_count": 43,
     "metadata": {},
     "output_type": "execute_result"
    }
   ],
   "source": [
    "def list_of_hexa_colors(amount=0):\n",
    "    if amount == 0:\n",
    "        amount = random.randint(1, 10)\n",
    "    hex = \"1,2,3,4,5,6,7,8,9,0,a,b,c,d,e,f\".split(\",\")\n",
    "    hex_codes = []\n",
    "    for i in range(amount):\n",
    "        hex_codes.append(\"#\" + ''.join([random.choice(hex) for j in range(6)]))\n",
    "    return hex_codes\n",
    "list_of_hexa_colors(3)"
   ]
  },
  {
   "cell_type": "markdown",
   "metadata": {
    "collapsed": false
   },
   "source": [
    "### Q2"
   ]
  },
  {
   "cell_type": "code",
   "execution_count": 45,
   "metadata": {
    "collapsed": false
   },
   "outputs": [
    {
     "data": {
      "text/plain": [
       "['rgb(112,29,40)',\n",
       " 'rgb(138,70,77)',\n",
       " 'rgb(143,164,254)',\n",
       " 'rgb(167,31,199)',\n",
       " 'rgb(129,71,234)',\n",
       " 'rgb(196,170,162)',\n",
       " 'rgb(0,10,7)',\n",
       " 'rgb(69,207,180)']"
      ]
     },
     "execution_count": 45,
     "metadata": {},
     "output_type": "execute_result"
    }
   ],
   "source": [
    "def list_of_rgb_colors(amount=0):\n",
    "    if amount == 0:\n",
    "        amount = random.randint(1, 10)\n",
    "    rgbs = []\n",
    "    for _ in range(amount):\n",
    "        rgbs.append(rgb_color_gen())\n",
    "    return rgbs\n",
    "list_of_rgb_colors(8)"
   ]
  },
  {
   "cell_type": "markdown",
   "metadata": {
    "collapsed": false
   },
   "source": [
    "### Q3"
   ]
  },
  {
   "cell_type": "code",
   "execution_count": 48,
   "metadata": {
    "collapsed": false
   },
   "outputs": [
    {
     "name": "stdout",
     "output_type": "stream",
     "text": [
      "['#3d74e0', '#7ca073', '#0ab8ee']\n",
      "['#be21e7']\n",
      "['rgb(6,16,49)', 'rgb(201,202,149)', 'rgb(145,223,102)']\n",
      "['rgb(17,123,36)']\n"
     ]
    }
   ],
   "source": [
    "def generate_colors(color, amount):\n",
    "    if color == 'hexa':\n",
    "         print(list_of_hexa_colors(amount))\n",
    "    elif color == 'rgb':\n",
    "        print(list_of_rgb_colors(amount))\n",
    "    else:\n",
    "        print(\"require hexa or rgb color\")\n",
    "generate_colors('hexa', 3)\n",
    "generate_colors('hexa', 1)\n",
    "generate_colors('rgb', 3)\n",
    "generate_colors('rgb', 1)"
   ]
  },
  {
   "cell_type": "markdown",
   "metadata": {
    "collapsed": false
   },
   "source": [
    "## Exercises: Level 3\n"
   ]
  },
  {
   "cell_type": "markdown",
   "metadata": {
    "collapsed": false
   },
   "source": [
    "### Q1"
   ]
  },
  {
   "cell_type": "code",
   "execution_count": 75,
   "metadata": {
    "collapsed": false
   },
   "outputs": [
    {
     "data": {
      "text/plain": [
       "[9, 1, 4, 7, 6, 3, 8, 5, 2]"
      ]
     },
     "execution_count": 75,
     "metadata": {},
     "output_type": "execute_result"
    }
   ],
   "source": [
    "def shuffle_list(lst):\n",
    "    return random.sample(lst, len(lst))\n",
    "my_lst = [1,2,3,4,5,6,7,8,9]\n",
    "shuffle_list(my_lst)"
   ]
  },
  {
   "cell_type": "markdown",
   "metadata": {
    "collapsed": false
   },
   "source": [
    "### Q2"
   ]
  },
  {
   "cell_type": "code",
   "execution_count": 113,
   "metadata": {
    "collapsed": false
   },
   "outputs": [
    {
     "data": {
      "text/plain": [
       "[2, 8, 5, 4, 9, 0, 3, 6]"
      ]
     },
     "execution_count": 113,
     "metadata": {},
     "output_type": "execute_result"
    }
   ],
   "source": [
    "def seven_random():\n",
    "    array = []\n",
    "    while len(array) <= 7:\n",
    "        num = random.randint(0, 9)\n",
    "        if num not in array:\n",
    "            array.append(num)\n",
    "    return array\n",
    "seven_random()\n"
   ]
  }
 ],
 "metadata": {
  "kernelspec": {
   "display_name": "base",
   "language": "python",
   "name": "python3"
  },
  "language_info": {
   "codemirror_mode": {
    "name": "ipython",
    "version": 2
   },
   "file_extension": ".py",
   "mimetype": "text/x-python",
   "name": "python",
   "nbconvert_exporter": "python",
   "pygments_lexer": "ipython2",
   "version": "3.8.8"
  },
  "vscode": {
   "interpreter": {
    "hash": "99ebbddb4d26d80122836a1451186d0c9e365e5714863c74660ee872bfd6eb66"
   }
  }
 },
 "nbformat": 4,
 "nbformat_minor": 0
}
