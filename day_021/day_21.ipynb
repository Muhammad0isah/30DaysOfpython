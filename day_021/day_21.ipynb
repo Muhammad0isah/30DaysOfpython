{
 "cells": [
  {
   "cell_type": "markdown",
   "source": [
    "# Day 21 (Classes and Objects)"
   ],
   "metadata": {
    "collapsed": false
   }
  },
  {
   "cell_type": "markdown",
   "source": [
    "## Exercise: level one"
   ],
   "metadata": {
    "collapsed": false
   }
  },
  {
   "cell_type": "markdown",
   "source": [
    "### Q1"
   ],
   "metadata": {
    "collapsed": false
   }
  },
  {
   "cell_type": "code",
   "execution_count": null,
   "outputs": [],
   "source": [],
   "metadata": {
    "collapsed": false
   }
  },
  {
   "cell_type": "code",
   "execution_count": 3,
   "outputs": [
    {
     "name": "stdout",
     "output_type": "stream",
     "text": [
      "Count: 25\n",
      "Sum:  744\n",
      "Min:  24\n",
      "Max:  38\n",
      "Range:  14\n",
      "Mean:  29.76\n",
      "Median:  29\n",
      "Mode:  {'mode': 26, 'count': 5}\n",
      "Standard Deviation:  4.2747319604079665\n",
      "Variance:  18.273333333333333\n",
      "Frequency Distribution:  [(20.0, 26), (16.0, 27), (12.0, 32), (8.0, 37), (8.0, 34), (8.0, 33), (8.0, 31), (8.0, 24), (4.0, 38), (4.0, 29), (4.0, 25)]\n"
     ]
    }
   ],
   "source": [
    "import statistics as stat\n",
    "\n",
    "\n",
    "class Statistics:\n",
    "    def __init__(self, ages):\n",
    "        self.array = ages\n",
    "\n",
    "    def getData(self):\n",
    "        return self.array\n",
    "\n",
    "    def count(self):\n",
    "        return len(self.array)\n",
    "\n",
    "    def sum(self):\n",
    "        return sum(self.array)\n",
    "\n",
    "    def min(self):\n",
    "        return min(self.array)\n",
    "\n",
    "    def max(self):\n",
    "        return max(self.array)\n",
    "\n",
    "    def range(self):\n",
    "        return max(self.array) - min(self.array)\n",
    "\n",
    "    def mean(self):\n",
    "        return stat.mean(self.array)\n",
    "\n",
    "    def median(self):\n",
    "        return stat.median(self.array)\n",
    "\n",
    "    def mode(self):\n",
    "        mode_value = stat.mode(self.array)\n",
    "        return {'mode': mode_value, 'count': self.array.count(mode_value)}\n",
    "\n",
    "    def std(self):\n",
    "        return stat.stdev(self.array)\n",
    "\n",
    "    def var(self):\n",
    "        return stat.variance(self.array)\n",
    "\n",
    "    def freq_dist(self):\n",
    "        return sorted([(self.array.count(i) * 4.0, i) for i in set(self.array)], reverse=True)\n",
    "\n",
    "ages = [31, 26, 34, 37, 27, 26, 32, 32, 26, 27, 27, 24, 32, 33, 27, 25, 26, 38, 37, 31, 34, 24, 33, 29, 26]\n",
    "data = Statistics(ages)\n",
    "print('Count:', data.count())\n",
    "print('Sum: ', data.sum())\n",
    "print('Min: ', data.min())\n",
    "print('Max: ', data.max())\n",
    "print('Range: ', data.range())\n",
    "print('Mean: ', data.mean())\n",
    "print('Median: ', data.median())\n",
    "print('Mode: ', data.mode())\n",
    "print('Standard Deviation: ', data.std())\n",
    "print('Variance: ', data.var())\n",
    "print('Frequency Distribution: ', data.freq_dist())"
   ],
   "metadata": {
    "collapsed": false
   }
  },
  {
   "cell_type": "markdown",
   "source": [
    "## Exercise: Level 2"
   ],
   "metadata": {
    "collapsed": false
   }
  },
  {
   "cell_type": "markdown",
   "source": [
    "### Q1"
   ],
   "metadata": {
    "collapsed": false
   }
  },
  {
   "cell_type": "code",
   "execution_count": 6,
   "outputs": [
    {
     "name": "stdout",
     "output_type": "stream",
     "text": [
      "31000\n",
      "6500\n",
      "Name: Muhammad Ibrahim \n",
      "Income: 31000 \n",
      "Expense: 6500\n",
      "{'Fuel': 5000, 'General': 4500, 'Tax': 3000, 'Rent': 2000}\n",
      "16500\n"
     ]
    }
   ],
   "source": [
    "class PersonAccount:\n",
    "    def __init__(self, firstname, lastname, incomes, expenses):\n",
    "        self.firstname = firstname\n",
    "        self.lastname = lastname\n",
    "        self.incomes = incomes\n",
    "        self.expenses = expenses\n",
    "\n",
    "    def total_income(self):\n",
    "        return sum(self.incomes.values())\n",
    "\n",
    "    def total_expense(self):\n",
    "        return sum(self.expenses.values())\n",
    "\n",
    "    def account_info(self):\n",
    "        return \"Name: %s %s \\nIncome: %d \\nExpense: %d\" % (\n",
    "            self.firstname, self.lastname, self.total_income(), self.total_expense())\n",
    "\n",
    "    def add_income(self, data):\n",
    "        for k, v in data.items():\n",
    "            self.incomes[k] = v\n",
    "        return dict(sorted(self.incomes.items(), key=lambda x: x[1], reverse=True))\n",
    "\n",
    "    def add_expense(self, data):\n",
    "        for k, v in data.items():\n",
    "            self.expenses[k] = v\n",
    "        return dict(sorted(self.expenses.items(), key=lambda x: x[1], reverse=True))\n",
    "\n",
    "    def account_balance(self):\n",
    "        return self.total_income() - self.total_expense()\n",
    "\n",
    "obj = PersonAccount('Muhammad', 'Ibrahim', {'Salary': 30000, 'Bonus': 1000}, {'Rent': 2000, 'General': 4500})\n",
    "print(obj.total_income())\n",
    "print(obj.total_expense())\n",
    "print(obj.account_info())\n",
    "print(obj.add_expense({'Fuel': 5000,'Tax': 3000}))\n",
    "print(obj.account_balance())\n"
   ],
   "metadata": {
    "collapsed": false
   }
  }
 ],
 "metadata": {
  "kernelspec": {
   "display_name": "Python 3",
   "language": "python",
   "name": "python3"
  },
  "language_info": {
   "codemirror_mode": {
    "name": "ipython",
    "version": 2
   },
   "file_extension": ".py",
   "mimetype": "text/x-python",
   "name": "python",
   "nbconvert_exporter": "python",
   "pygments_lexer": "ipython2",
   "version": "2.7.6"
  }
 },
 "nbformat": 4,
 "nbformat_minor": 0
}
