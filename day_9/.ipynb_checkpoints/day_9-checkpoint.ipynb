{
 "cells": [
  {
   "cell_type": "markdown",
   "metadata": {},
   "source": [
    "# Day 9 (Conditional)"
   ]
  },
  {
   "cell_type": "markdown",
   "metadata": {},
   "source": [
    "## Exercise: Level 1"
   ]
  },
  {
   "cell_type": "markdown",
   "metadata": {},
   "source": [
    "### Q1"
   ]
  },
  {
   "cell_type": "code",
   "execution_count": 1,
   "metadata": {},
   "outputs": [
    {
     "name": "stdout",
     "output_type": "stream",
     "text": [
      "Enter your age: 25\n",
      "You are old enough to learn to drive.\n"
     ]
    }
   ],
   "source": [
    "age = int(input(\"Enter your age: \"))\n",
    "if age >= 18:\n",
    "    print(\"You are old enough to learn to drive.\")\n",
    "elif age < 18:\n",
    "    print(\"You need \",(18-age),\" more years to learn to drive.\")\n"
   ]
  },
  {
   "cell_type": "markdown",
   "metadata": {},
   "source": [
    "### Q2"
   ]
  },
  {
   "cell_type": "code",
   "execution_count": 2,
   "metadata": {},
   "outputs": [
    {
     "name": "stdout",
     "output_type": "stream",
     "text": [
      "You are 7 years older than me\n"
     ]
    }
   ],
   "source": [
    "my_age = 18\n",
    "if age == my_age:\n",
    "    print(\"We are the same age\")\n",
    "elif age > my_age:\n",
    "    print(\"You are\", age - my_age, \"years older than me\")\n",
    "else:\n",
    "    print(\"I am\", my_age - age, \"years older than you\")"
   ]
  },
  {
   "cell_type": "markdown",
   "metadata": {},
   "source": [
    "### Q3"
   ]
  },
  {
   "cell_type": "code",
   "execution_count": 3,
   "metadata": {},
   "outputs": [
    {
     "name": "stdout",
     "output_type": "stream",
     "text": [
      "Enter number: 4\n",
      "Enter number: 3\n",
      "4 is greater than 3\n"
     ]
    }
   ],
   "source": [
    "a = int(input(\"Enter number: \"))\n",
    "b = int(input(\"Enter number: \"))\n",
    "if a > b:\n",
    "    print(a, \"is greater than\", b)\n",
    "elif a < b:\n",
    "    print(a, \"is lesser than\", b)\n",
    "else:\n",
    "    print(\"Both numbers are equal\")"
   ]
  },
  {
   "cell_type": "markdown",
   "metadata": {},
   "source": [
    "## Exercise: Level 2\n"
   ]
  },
  {
   "cell_type": "markdown",
   "metadata": {},
   "source": [
    "### Q1"
   ]
  },
  {
   "cell_type": "code",
   "execution_count": 4,
   "metadata": {},
   "outputs": [
    {
     "name": "stdout",
     "output_type": "stream",
     "text": [
      "Enter score: 87\n",
      "B\n"
     ]
    }
   ],
   "source": [
    "score = int(input(\"Enter score: \"))\n",
    "if score <= 100 and score >= 90:\n",
    "    print('A')\n",
    "elif score <= 89 and score >= 70:\n",
    "    print('B')\n",
    "elif score <= 69 and score >= 60:\n",
    "    print('C')\n",
    "elif score <= 59 and score >= 50:\n",
    "    print('D')\n",
    "elif score <= 49 and score >=0:\n",
    "    print('F')"
   ]
  },
  {
   "cell_type": "markdown",
   "metadata": {},
   "source": [
    "### Q2"
   ]
  },
  {
   "cell_type": "code",
   "execution_count": 5,
   "metadata": {},
   "outputs": [
    {
     "name": "stdout",
     "output_type": "stream",
     "text": [
      "Enter month: October\n",
      "Autumn\n",
      "Summer\n"
     ]
    }
   ],
   "source": [
    "month = input('Enter month: ').title()\n",
    "if month in [\"September\", \"October\", \"November\"]:\n",
    "    print(\"Autumn\")\n",
    "if month in [\"December\", \"January\", \"February\"]:\n",
    "    print(\"Winter\")\n",
    "if month in [\"March\", \"April\", \"May\"]:\n",
    "    print(\"Spring\")\n",
    "else:\n",
    "    print(\"Summer\")"
   ]
  },
  {
   "cell_type": "markdown",
   "metadata": {},
   "source": [
    "### Q3"
   ]
  },
  {
   "cell_type": "code",
   "execution_count": 6,
   "metadata": {},
   "outputs": [
    {
     "name": "stdout",
     "output_type": "stream",
     "text": [
      "Enter fruit: banana\n",
      "That fruit already exists in the list\n",
      "['banana', 'orange', 'mango', 'lemon']\n"
     ]
    }
   ],
   "source": [
    "fruits = ['banana', 'orange', 'mango', 'lemon']\n",
    "fruit = input('Enter fruit: ')\n",
    "print('That fruit already exists in the list' if fruit in fruits else fruits.append(fruit))\n",
    "print(fruits)"
   ]
  },
  {
   "cell_type": "markdown",
   "metadata": {},
   "source": [
    "## Exercise: Level 3"
   ]
  },
  {
   "cell_type": "markdown",
   "metadata": {},
   "source": [
    "### Q4"
   ]
  },
  {
   "cell_type": "code",
   "execution_count": 7,
   "metadata": {},
   "outputs": [
    {
     "name": "stdout",
     "output_type": "stream",
     "text": [
      "Node\n",
      "True\n",
      "Unknown Title\n",
      "Asabeneh Yetayeh lives in Finland . He is married\n"
     ]
    }
   ],
   "source": [
    "person={\n",
    "    'first_name': 'Asabeneh',\n",
    "    'last_name': 'Yetayeh',\n",
    "    'age': 250,\n",
    "    'country': 'Finland',\n",
    "    'is_marred': True,\n",
    "    'skills': ['JavaScript', 'React', 'Node', 'MongoDB', 'Python'],\n",
    "    'address': {\n",
    "        'street': 'Space street',\n",
    "        'zipcode': '02210'\n",
    "    }\n",
    "}\n",
    "if person['skills']:\n",
    "    print(person['skills'][len(person['skills']) // 2])\n",
    "    print(\"Python\" in person['skills'])\n",
    "    if ['Javascript', 'React'] == person['skills']:\n",
    "        print('Front End Developer')\n",
    "    elif ['Node', 'MongoDB', 'React'] == person['skills']:\n",
    "        print('Full Stack Developer')\n",
    "    else:\n",
    "        print(\"Unknown Title\")\n",
    "\n",
    "if person['is_marred']:\n",
    "    print(person['first_name'], person['last_name'], \"lives in\", person['country'], \". He is married\")\n",
    "else:\n",
    "    print(person['first_name'], person['last_name'], \"lives in\", person['country'], \". He is not married\")\n",
    "\n",
    "\n"
   ]
  }
 ],
 "metadata": {
  "kernelspec": {
   "display_name": "Python 3 (ipykernel)",
   "language": "python",
   "name": "python3"
  },
  "language_info": {
   "codemirror_mode": {
    "name": "ipython",
    "version": 3
   },
   "file_extension": ".py",
   "mimetype": "text/x-python",
   "name": "python",
   "nbconvert_exporter": "python",
   "pygments_lexer": "ipython3",
   "version": "3.8.16"
  },
  "vscode": {
   "interpreter": {
    "hash": "99ebbddb4d26d80122836a1451186d0c9e365e5714863c74660ee872bfd6eb66"
   }
  }
 },
 "nbformat": 4,
 "nbformat_minor": 2
}
