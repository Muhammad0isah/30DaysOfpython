{
 "cells": [
  {
   "cell_type": "markdown",
   "metadata": {},
   "source": [
    "# Day 11 (Functions)"
   ]
  },
  {
   "attachments": {},
   "cell_type": "markdown",
   "metadata": {},
   "source": [
    "## Exercise: Level 1"
   ]
  },
  {
   "attachments": {},
   "cell_type": "markdown",
   "metadata": {},
   "source": [
    "### Q1"
   ]
  },
  {
   "cell_type": "code",
   "execution_count": 1,
   "metadata": {},
   "outputs": [
    {
     "name": "stdout",
     "output_type": "stream",
     "text": [
      "6\n"
     ]
    }
   ],
   "source": [
    "def add_two_number(x,y):\n",
    "    return x+y\n",
    "print(add_two_number(2,4))"
   ]
  },
  {
   "attachments": {},
   "cell_type": "markdown",
   "metadata": {},
   "source": [
    "### Q2"
   ]
  },
  {
   "cell_type": "code",
   "execution_count": 2,
   "metadata": {},
   "outputs": [
    {
     "name": "stdout",
     "output_type": "stream",
     "text": [
      "12.566370614359172\n"
     ]
    }
   ],
   "source": [
    "import math\n",
    "def area_of_circle(r):\n",
    "    return math.pi * r * r\n",
    "print(area_of_circle(2))"
   ]
  },
  {
   "attachments": {},
   "cell_type": "markdown",
   "metadata": {},
   "source": [
    "### Q3"
   ]
  },
  {
   "cell_type": "code",
   "execution_count": 24,
   "metadata": {},
   "outputs": [
    {
     "name": "stdout",
     "output_type": "stream",
     "text": [
      "13\n"
     ]
    }
   ],
   "source": [
    "def add_all_num(*nums):\n",
    "    sum = 0\n",
    "    for num in nums:\n",
    "        if isinstance(num,int):\n",
    "            sum += num\n",
    "        else:\n",
    "            print(\"please only integers type only\")\n",
    "    return sum\n",
    "print(add_all_num(4,4,5))\n"
   ]
  },
  {
   "attachments": {},
   "cell_type": "markdown",
   "metadata": {},
   "source": [
    "### Q4"
   ]
  },
  {
   "cell_type": "code",
   "execution_count": 29,
   "metadata": {},
   "outputs": [
    {
     "name": "stdout",
     "output_type": "stream",
     "text": [
      "98.6\n"
     ]
    }
   ],
   "source": [
    "def cels_to_fahr(c):\n",
    "    f = (c * 9.0/5) + 32\n",
    "    return f\n",
    "print(cels_to_fahr(37))"
   ]
  },
  {
   "attachments": {},
   "cell_type": "markdown",
   "metadata": {},
   "source": [
    "### Q5"
   ]
  },
  {
   "cell_type": "code",
   "execution_count": 9,
   "metadata": {},
   "outputs": [
    {
     "name": "stdout",
     "output_type": "stream",
     "text": [
      "Spring\n",
      "Summer\n"
     ]
    }
   ],
   "source": [
    "def check_season(month):\n",
    "    if month in [\"September\", \"October\", \"November\"]:\n",
    "        print(\"Autumn\")\n",
    "    elif month in [\"December\", \"January\", \"February\"]:\n",
    "        print(\"Winter\")\n",
    "    elif month in [\"March\", \"April\", \"May\"]:\n",
    "        print(\"Spring\")\n",
    "    elif month in ['June','July','August']:\n",
    "        print(\"Summer\")\n",
    "    else:\n",
    "        print(\"Invalid month\")\n",
    "check_season(\"April\")\n",
    "check_season('August')"
   ]
  },
  {
   "attachments": {},
   "cell_type": "markdown",
   "metadata": {},
   "source": [
    "### Q6"
   ]
  },
  {
   "cell_type": "code",
   "execution_count": 15,
   "metadata": {},
   "outputs": [
    {
     "data": {
      "text/plain": [
       "0.5"
      ]
     },
     "execution_count": 15,
     "metadata": {},
     "output_type": "execute_result"
    }
   ],
   "source": [
    "def calculate_slope (x1,y1,x2,y2):\n",
    "    slope = (y2-y1)/(x2-x1)\n",
    "    return slope\n",
    "calculate_slope(2,3,6,5)"
   ]
  },
  {
   "attachments": {},
   "cell_type": "markdown",
   "metadata": {},
   "source": [
    "### Q7"
   ]
  },
  {
   "cell_type": "code",
   "execution_count": 10,
   "metadata": {},
   "outputs": [
    {
     "data": {
      "text/plain": [
       "'x1 = -1.0, and x2 = -2.0'"
      ]
     },
     "execution_count": 10,
     "metadata": {},
     "output_type": "execute_result"
    }
   ],
   "source": [
    "import math\n",
    "\n",
    "def solve_quadratic_eqn(a,b,c):\n",
    "    discriminant = math.sqrt(b*b - (4 * a *c))\n",
    "    x1 = (-b + discriminant) / (2*a)\n",
    "    x2 = (-b - discriminant) / (2*a)\n",
    "    return ('x1 = {}, and x2 = {}'.format(x1,x2))\n",
    "solve_quadratic_eqn(1,3,2)"
   ]
  },
  {
   "attachments": {},
   "cell_type": "markdown",
   "metadata": {},
   "source": [
    "### Q8"
   ]
  },
  {
   "cell_type": "code",
   "execution_count": 11,
   "metadata": {},
   "outputs": [
    {
     "name": "stdout",
     "output_type": "stream",
     "text": [
      "Abba\n",
      "Sadiq\n",
      "Umar\n",
      "Usman\n"
     ]
    }
   ],
   "source": [
    "\n",
    "def print_list(lst):\n",
    "    for i in lst:\n",
    "        print(i)\n",
    "myList = ['Abba','Sadiq','Umar','Usman']\n",
    "print_list(myList)"
   ]
  },
  {
   "attachments": {},
   "cell_type": "markdown",
   "metadata": {},
   "source": [
    "### Q9"
   ]
  },
  {
   "cell_type": "code",
   "execution_count": 21,
   "metadata": {},
   "outputs": [
    {
     "name": "stdout",
     "output_type": "stream",
     "text": [
      "[5, 4, 3, 2, 1]\n",
      "['C', 'B', 'A']\n"
     ]
    }
   ],
   "source": [
    "def reverse_list(lst):\n",
    "    for i in lst:\n",
    "        return lst[::-1]\n",
    "print(reverse_list([1, 2, 3, 4, 5]))\n",
    "print(reverse_list([\"A\", \"B\", \"C\"]))"
   ]
  },
  {
   "attachments": {},
   "cell_type": "markdown",
   "metadata": {},
   "source": [
    "### Q10"
   ]
  },
  {
   "cell_type": "code",
   "execution_count": 41,
   "metadata": {},
   "outputs": [
    {
     "data": {
      "text/plain": [
       "['Python', 'java', 'c++', 'c#']"
      ]
     },
     "execution_count": 41,
     "metadata": {},
     "output_type": "execute_result"
    }
   ],
   "source": [
    "def capitalize_list_items(lst):\n",
    "    for i in lst:\n",
    "        lst[lst.index(i)] = i.capitalize()\n",
    "        return lst\n",
    "mylst = ['python','java','c++','c#']\n",
    "capitalize_list_items(mylst)\n"
   ]
  },
  {
   "attachments": {},
   "cell_type": "markdown",
   "metadata": {},
   "source": [
    "### Q11"
   ]
  },
  {
   "cell_type": "code",
   "execution_count": 45,
   "metadata": {},
   "outputs": [
    {
     "name": "stdout",
     "output_type": "stream",
     "text": [
      "['Potato', 'Tomato', 'Mango', 'Milk', 'Meat']\n",
      "[2, 3, 7, 9, 5]\n"
     ]
    }
   ],
   "source": [
    "def add_item(lst,item):\n",
    "    lst.append(item)\n",
    "    return lst\n",
    "\n",
    "food_staff = ['Potato', 'Tomato', 'Mango', 'Milk'];\n",
    "print(add_item(food_staff, 'Meat')) \n",
    "numbers = [2, 3, 7, 9];\n",
    "print(add_item(numbers, 5))"
   ]
  },
  {
   "attachments": {},
   "cell_type": "markdown",
   "metadata": {},
   "source": [
    "### Q12"
   ]
  },
  {
   "cell_type": "code",
   "execution_count": 46,
   "metadata": {},
   "outputs": [
    {
     "name": "stdout",
     "output_type": "stream",
     "text": [
      "['Potato', 'Tomato', 'Milk']\n",
      "[2, 7, 9]\n"
     ]
    }
   ],
   "source": [
    "def remove_item(lst, item):\n",
    "    lst.remove(item)\n",
    "    return lst\n",
    "\n",
    "food_staff = ['Potato', 'Tomato', 'Mango', 'Milk'];\n",
    "print(remove_item(food_staff, 'Mango'))  \n",
    "numbers = [2, 3, 7, 9];\n",
    "print(remove_item(numbers, 3))"
   ]
  },
  {
   "attachments": {},
   "cell_type": "markdown",
   "metadata": {},
   "source": [
    "### Q13"
   ]
  },
  {
   "cell_type": "code",
   "execution_count": 50,
   "metadata": {},
   "outputs": [
    {
     "name": "stdout",
     "output_type": "stream",
     "text": [
      "15\n",
      "55\n",
      "5050\n"
     ]
    }
   ],
   "source": [
    "def sum_of_numbers(num):\n",
    "    sum = 0\n",
    "    for i in range(num+1):\n",
    "        sum += i\n",
    "    return sum\n",
    "\n",
    "print(sum_of_numbers(5))  # 15\n",
    "print(sum_of_numbers(10)) # 55\n",
    "print(sum_of_numbers(100)) # 5050"
   ]
  },
  {
   "attachments": {},
   "cell_type": "markdown",
   "metadata": {},
   "source": [
    "### Q14"
   ]
  },
  {
   "cell_type": "code",
   "execution_count": 56,
   "metadata": {},
   "outputs": [
    {
     "data": {
      "text/plain": [
       "2401"
      ]
     },
     "execution_count": 56,
     "metadata": {},
     "output_type": "execute_result"
    }
   ],
   "source": [
    "def sum_of_odds(num):\n",
    "    odd_num = 0\n",
    "    for i in range(num+1):\n",
    "        if i % 2 != 0:\n",
    "            odd_num += i\n",
    "    return odd_num\n",
    "sum_of_odds(98)\n"
   ]
  },
  {
   "attachments": {},
   "cell_type": "markdown",
   "metadata": {},
   "source": [
    "### Q15"
   ]
  },
  {
   "cell_type": "code",
   "execution_count": 67,
   "metadata": {},
   "outputs": [
    {
     "data": {
      "text/plain": [
       "30"
      ]
     },
     "execution_count": 67,
     "metadata": {},
     "output_type": "execute_result"
    }
   ],
   "source": [
    "def sum_of_evens(num):\n",
    "    even_num = 0\n",
    "    for i in range(num+1):\n",
    "        if i % 2 == 0:\n",
    "            even_num += i\n",
    "    return even_num\n",
    "sum_of_evens(10)\n"
   ]
  },
  {
   "attachments": {},
   "cell_type": "markdown",
   "metadata": {},
   "source": [
    "## Exercise: Level 2\n"
   ]
  },
  {
   "attachments": {},
   "cell_type": "markdown",
   "metadata": {},
   "source": [
    "### Q1"
   ]
  },
  {
   "cell_type": "code",
   "execution_count": 105,
   "metadata": {},
   "outputs": [
    {
     "name": "stdout",
     "output_type": "stream",
     "text": [
      "The number of odds are 50\n",
      "The number of evens are 51\n"
     ]
    }
   ],
   "source": [
    "def evens_and_odds(num):\n",
    "    odds = []\n",
    "    evens = []\n",
    "    for i in range(num + 1):\n",
    "        if i % 2 == 0:\n",
    "            evens.append(i)\n",
    "        else:\n",
    "            odds.append(i)\n",
    "    return (\"The number of odds are {}\\nThe number of evens are {}\".format(len(odds),len(evens)))\n",
    "print(evens_and_odds(100))"
   ]
  },
  {
   "attachments": {},
   "cell_type": "markdown",
   "metadata": {},
   "source": [
    "### Q2"
   ]
  },
  {
   "cell_type": "code",
   "execution_count": 129,
   "metadata": {},
   "outputs": [
    {
     "name": "stdout",
     "output_type": "stream",
     "text": [
      "120\n"
     ]
    }
   ],
   "source": [
    "def factorial(n):\n",
    "    fac = 1\n",
    "    for i in range(1,n+1):\n",
    "        fac = fac * i\n",
    "    return fac\n",
    "print(factorial(5))"
   ]
  },
  {
   "attachments": {},
   "cell_type": "markdown",
   "metadata": {},
   "source": [
    "### Q3"
   ]
  },
  {
   "cell_type": "code",
   "execution_count": 156,
   "metadata": {},
   "outputs": [
    {
     "name": "stdout",
     "output_type": "stream",
     "text": [
      "is empty\n",
      "is not empty\n",
      "is empty\n"
     ]
    }
   ],
   "source": [
    "def is_empty(check):\n",
    "    if not check:\n",
    "        return \"is empty\"\n",
    "    else:\n",
    "        return \"is not empty\"\n",
    "mylst = []\n",
    "myset  = {1,2}\n",
    "my_str = ''\n",
    "print(is_empty(mylst))\n",
    "print(is_empty(myset))\n",
    "print(is_empty(my_str))\n",
    "\n",
    "        "
   ]
  },
  {
   "attachments": {},
   "cell_type": "markdown",
   "metadata": {},
   "source": [
    "### Q4"
   ]
  },
  {
   "cell_type": "code",
   "execution_count": 69,
   "metadata": {},
   "outputs": [
    {
     "name": "stdout",
     "output_type": "stream",
     "text": [
      "mean =  5.285714285714286\n",
      "median =  4.5\n",
      "mode =  3\n",
      "range =  8\n",
      "variance =  7.346938775510204\n",
      "standard deviation =  2.710523708715754\n"
     ]
    }
   ],
   "source": [
    "import statistics\n",
    "def calculate_mean(lst):\n",
    "    mean = sum(lst)/len(lst)\n",
    "    return mean\n",
    "def calculate_median(lst):\n",
    "    sorted_lst = sorted(lst)\n",
    "    if len(sorted_lst) % 2 != 0:\n",
    "        return sorted_lst[len(lst) // 2]\n",
    "    return (sorted_lst[(len(lst) // 2) - 1] + sorted_lst[len(lst)//2]) / 2\n",
    "def calculate_mode(lst):\n",
    "    frequency = {}\n",
    "\n",
    "    for value in lst:\n",
    "        frequency[value] = frequency.get(value, 0) + 1\n",
    "\n",
    "    most_frequent = max(frequency.values())\n",
    "    mode = [key for key, value in frequency.items() if value == most_frequent]\n",
    "    sorted_frequency= dict(sorted(frequency.items(),key=lambda x:x[1],reverse=True))\n",
    "    sorted_frequency = list(sorted_frequency)\n",
    "    return sorted_frequency[0]\n",
    "def calculate_range(lst):\n",
    "    return (max(lst)-min(lst))\n",
    "def calculate_variance(lst):\n",
    "    mean = sum(lst) / len(lst)\n",
    "    dev = [(x - mean) ** 2 for x in lst]\n",
    "    var = sum(dev) / len(lst)\n",
    "    return var\n",
    "def calculate_std(lst):\n",
    "    var = calculate_variance(lst)\n",
    "    std = var ** 0.5\n",
    "    return std\n",
    "myList = [2,4,3,3,3,1,9,4,5,7,7,8,9,9]\n",
    "print('mean = ',calculate_mean(myList))\n",
    "print('median = ',calculate_median(myList))\n",
    "print('mode = ',calculate_mode(myList))\n",
    "print('range = ',calculate_range(myList))\n",
    "print('variance = ',calculate_variance(myList))\n",
    "print('standard deviation = ',calculate_std(myList))"
   ]
  },
  {
   "attachments": {},
   "cell_type": "markdown",
   "metadata": {},
   "source": [
    "## Exercise: Level 3"
   ]
  },
  {
   "attachments": {},
   "cell_type": "markdown",
   "metadata": {},
   "source": [
    "### Q1"
   ]
  },
  {
   "cell_type": "code",
   "execution_count": 85,
   "metadata": {},
   "outputs": [
    {
     "name": "stdout",
     "output_type": "stream",
     "text": [
      "11 is prime number\n",
      "1 is not a prime number\n"
     ]
    }
   ],
   "source": [
    "import math\n",
    "def is_prime(num):\n",
    "    if num <= 1:\n",
    "        return ('{} is not a prime number'.format(num))\n",
    "    max_div = math.floor(math.sqrt(num))\n",
    "    for i in range(2, 1 + max_div):\n",
    "        if num % i == 0:\n",
    "            return ('{} is not  a prime number'.format(num))\n",
    "    return ('{} is prime number'.format(num))\n",
    "print(is_prime(11))\n",
    "print(is_prime(1))"
   ]
  },
  {
   "attachments": {},
   "cell_type": "markdown",
   "metadata": {},
   "source": [
    "### Q2"
   ]
  },
  {
   "cell_type": "code",
   "execution_count": 87,
   "metadata": {},
   "outputs": [
    {
     "name": "stdout",
     "output_type": "stream",
     "text": [
      "list items are unique\n",
      "items are not unique\n"
     ]
    }
   ],
   "source": [
    "def isunique(lst):\n",
    "    if len(set(lst)) == len(lst):\n",
    "        print('list items are unique')\n",
    "    else:\n",
    "        print('items are not unique')\n",
    "\n",
    "myLst = [1,2,3,4,5,6]\n",
    "isunique(myLst)\n",
    "newLst = [1,2,3,1,4,5,6]\n",
    "isunique(newLst)\n"
   ]
  },
  {
   "attachments": {},
   "cell_type": "markdown",
   "metadata": {},
   "source": [
    "### Q3"
   ]
  },
  {
   "cell_type": "code",
   "execution_count": 117,
   "metadata": {},
   "outputs": [
    {
     "name": "stdout",
     "output_type": "stream",
     "text": [
      "list has the same data type\n",
      "list has different data type\n"
     ]
    }
   ],
   "source": [
    "def isTheSameDataType(lst):\n",
    "    firstDataType = type(next(iter(lst)))\n",
    "    if all((type(i) is firstDataType) for i in lst):\n",
    "        print('list has the same data type')\n",
    "    else:\n",
    "        print('list has different data type')\n",
    "        \n",
    "myLst = [1,2,3,4,5]\n",
    "isTheSameDataType(myLst)\n",
    "newLst = [1,2,3,'python',4,5]\n",
    "isTheSameDataType(newLst)\n",
    "\n"
   ]
  },
  {
   "attachments": {},
   "cell_type": "markdown",
   "metadata": {},
   "source": [
    "### Q4"
   ]
  },
  {
   "cell_type": "code",
   "execution_count": 121,
   "metadata": {},
   "outputs": [
    {
     "name": "stdout",
     "output_type": "stream",
     "text": [
      "valid variable\n",
      "invalid variable\n",
      "valid variable\n",
      "invalid variable\n"
     ]
    }
   ],
   "source": [
    "def is_variable(variable):\n",
    "    variable = str(variable)\n",
    "    if variable.isidentifier():\n",
    "        print('valid variable')\n",
    "    else:\n",
    "        print('invalid variable')\n",
    "is_variable('name')\n",
    "is_variable('1circle')\n",
    "is_variable('_circle')\n",
    "is_variable('$circle')"
   ]
  },
  {
   "attachments": {},
   "cell_type": "markdown",
   "metadata": {},
   "source": [
    "### Q5"
   ]
  },
  {
   "cell_type": "code",
   "execution_count": 128,
   "metadata": {},
   "outputs": [
    {
     "name": "stdout",
     "output_type": "stream",
     "text": [
      "20 most spoken languages in the world in descending order\n",
      "{'English': 91, 'French': 45, 'Arabic': 25, 'Spanish': 24, 'Portuguese': 9, 'Russian': 9, 'Dutch': 8, 'German': 7, 'Chinese': 5, 'Serbian': 4, 'Swahili': 4, 'Italian': 4, 'Swedish': 3, 'Albanian': 3, 'Croatian': 3, 'Norwegian': 3, 'Uzbek': 2, 'Turkmen': 2, 'Samoan': 2, 'Guaraní': 2}\n",
      "\n",
      "20 most populated countries in descending order.\n",
      "{'China': 1377422166, 'India': 1295210000, 'United States of America': 323947000, 'Indonesia': 258705000, 'Brazil': 206135893, 'Pakistan': 194125062, 'Nigeria': 186988000, 'Bangladesh': 161006790, 'Russian Federation': 146599183, 'Japan': 126960000, 'Mexico': 122273473, 'Philippines': 103279800, 'Viet Nam': 92700000, 'Ethiopia': 92206005, 'Egypt': 91290000, 'Congo (Democratic Republic of the)': 85026000, 'Germany': 81770900, 'Iran (Islamic Republic of)': 79369900, 'Turkey': 78741053, 'France': 66710000}\n"
     ]
    }
   ],
   "source": [
    "from countries_data import data\n",
    "# Q5(i)\n",
    "def most_spoken_languages(countries_info):\n",
    "    languages_lst = []\n",
    "\n",
    "    for i in countries_info :\n",
    "        languages_lst.extend(i['languages'])\n",
    "    languages_dict = {}\n",
    "    for j in languages_lst:\n",
    "        if j in languages_dict:\n",
    "            languages_dict[j] += 1\n",
    "        else:\n",
    "            languages_dict[j] = 1\n",
    "    # sort languages dictionary by value to get top 10\n",
    "    sorted_language_dict= dict(sorted(languages_dict.items(),key=lambda x:x[1],reverse=True))\n",
    "    # get top 10 languages\n",
    "    top_20_language = dict(list(sorted_language_dict.items())[:20])\n",
    "    print(\"20 most spoken languages in the world in descending order\")\n",
    "    print(top_20_language)\n",
    "languages_data = data\n",
    "most_spoken_languages(languages_data)\n",
    "\n",
    "# Q5(ii)\n",
    "def most_populated_countries(population_info):\n",
    "    populations = {}\n",
    "    for i in population_info:\n",
    "        populations[i[\"name\"]] = i[\"population\"]\n",
    "    sorted_populations_dict= dict(sorted(populations.items(),key=lambda x:x[1],reverse=True))\n",
    "    top_10_populated_countries = dict(list(sorted_populations_dict.items())[:20])\n",
    "    print(\"\\n20 most populated countries in descending order.\")\n",
    "    print(top_10_populated_countries)\n",
    "\n",
    "population_data = data\n",
    "most_populated_countries(population_data)\n"
   ]
  }
 ],
 "metadata": {
  "kernelspec": {
   "display_name": "base",
   "language": "python",
   "name": "python3"
  },
  "language_info": {
   "codemirror_mode": {
    "name": "ipython",
    "version": 3
   },
   "file_extension": ".py",
   "mimetype": "text/x-python",
   "name": "python",
   "nbconvert_exporter": "python",
   "pygments_lexer": "ipython3",
   "version": "3.8.8"
  },
  "orig_nbformat": 4,
  "vscode": {
   "interpreter": {
    "hash": "99ebbddb4d26d80122836a1451186d0c9e365e5714863c74660ee872bfd6eb66"
   }
  }
 },
 "nbformat": 4,
 "nbformat_minor": 2
}
